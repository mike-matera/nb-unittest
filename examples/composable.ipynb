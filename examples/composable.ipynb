{
 "cells": [
  {
   "cell_type": "markdown",
   "metadata": {},
   "source": [
    "# Composable Test Cases \n",
    "\n",
    "Simple test cases are easy to embed. More complicated test cases can be imported and reused."
   ]
  },
  {
   "cell_type": "code",
   "execution_count": 1,
   "metadata": {},
   "outputs": [],
   "source": [
    "%load_ext nbtest"
   ]
  },
  {
   "cell_type": "code",
   "execution_count": 2,
   "metadata": {},
   "outputs": [],
   "source": [
    "\"\"\"@answer2\"\"\"\n",
    "\n",
    "def add(a, b):\n",
    "    \"\"\"My solution function\"\"\"\n",
    "    return a + b "
   ]
  },
  {
   "cell_type": "markdown",
   "metadata": {},
   "source": [
    "Check out `test_lib.py` for the complete example. Test symbols are made available to library code through the `nbtest.nbtest_attrs` package variable. External tests are specified in the `nbtest_cases` variable, which must be iterable. Values in `nbtest_cases` can be one of:\n",
    "\n",
    "1. A module with test cases \n",
    "1. A class that is derived from `unittest.TestCase`\n",
    "1. A function that returns an iterable of `unitest.TestCase`"
   ]
  },
  {
   "cell_type": "code",
   "execution_count": 3,
   "metadata": {},
   "outputs": [
    {
     "data": {
      "text/html": [
       "\n",
       "\n",
       " <div>\n",
       "    \n",
       "<div style=\"font-size: large; font-weight: bold;\">\n",
       "    <span style=\"font-size: xx-large; color: red\">☒</span>\n",
       "    Problems detected.\n",
       "</div>\n",
       "\n",
       "</div>\n",
       "<div>\n",
       "    \n",
       "<div>\n",
       "\n",
       "\n",
       "    <div style=\"width: 75%; min-width: 500px; max-width: 800px; padding-left: 50px; padding-bottom: 2rem\">\n",
       "        <div style=\"clear: both;\">\n",
       "            <div style=\"float: left; padding: 0.25em;\">\n",
       "                <span style=\"font-size: x-large; padding: 0.25em;\">⚠️</span><span style=\"font-family: monospace;\">Just testing for now: answer2</span>\n",
       "            </div>    \n",
       "        </div>\n",
       "        <div style=\"clear: both;\">\n",
       "            <div style=\"float: left; vertical-align: middle; padding-top: 0.25em; padding-bottom: 1em;\">This is a test case in a reusable test.</div>\n",
       "        </div>\n",
       "    </div>\n",
       "\n",
       "</div>\n",
       "\n",
       "</div>\n",
       "        "
      ],
      "text/plain": [
       "<IPython.core.display.HTML object>"
      ]
     },
     "execution_count": 3,
     "metadata": {},
     "output_type": "execute_result"
    }
   ],
   "source": [
    "%%testing @answer2 add \n",
    "\n",
    "import test_lib\n",
    "\n",
    "nbtest_cases = [\n",
    "    test_lib,\n",
    "]"
   ]
  },
  {
   "cell_type": "markdown",
   "metadata": {},
   "source": [
    "Individual classes can be selected."
   ]
  },
  {
   "cell_type": "code",
   "execution_count": 4,
   "metadata": {},
   "outputs": [
    {
     "data": {
      "text/html": [
       "\n",
       "\n",
       " <div>\n",
       "    \n",
       "<div style=\"font-size: large; font-weight: bold;\">\n",
       "    <span style=\"font-size: xx-large; color: red\">☒</span>\n",
       "    Problems detected.\n",
       "</div>\n",
       "\n",
       "</div>\n",
       "<div>\n",
       "    \n",
       "<div>\n",
       "\n",
       "\n",
       "    <div style=\"width: 75%; min-width: 500px; max-width: 800px; padding-left: 50px; padding-bottom: 2rem\">\n",
       "        <div style=\"clear: both;\">\n",
       "            <div style=\"float: left; padding: 0.25em;\">\n",
       "                <span style=\"font-size: x-large; padding: 0.25em;\">⚠️</span><span style=\"font-family: monospace;\">Just testing for now: answer2</span>\n",
       "            </div>    \n",
       "        </div>\n",
       "        <div style=\"clear: both;\">\n",
       "            <div style=\"float: left; vertical-align: middle; padding-top: 0.25em; padding-bottom: 1em;\">This is a test case in a reusable test.</div>\n",
       "        </div>\n",
       "    </div>\n",
       "\n",
       "</div>\n",
       "\n",
       "</div>\n",
       "        "
      ],
      "text/plain": [
       "<IPython.core.display.HTML object>"
      ]
     },
     "execution_count": 4,
     "metadata": {},
     "output_type": "execute_result"
    }
   ],
   "source": [
    "%%testing @answer2 add \n",
    "\n",
    "nbtest_cases = [\n",
    "    test_lib.ImportableClass, \n",
    "]"
   ]
  },
  {
   "cell_type": "markdown",
   "metadata": {},
   "source": [
    "Functions can be used to generate test cases, for maximum flexibility. "
   ]
  },
  {
   "cell_type": "code",
   "execution_count": 5,
   "metadata": {},
   "outputs": [
    {
     "data": {
      "text/html": [
       "\n",
       "\n",
       " <div>\n",
       "    \n",
       "<div style=\"font-size: large; font-weight: bold;\">\n",
       "    <span style=\"font-size: xx-large; color: red\">☒</span>\n",
       "    Problems detected.\n",
       "</div>\n",
       "\n",
       "</div>\n",
       "<div>\n",
       "    \n",
       "<div>\n",
       "\n",
       "\n",
       "    <div style=\"width: 75%; min-width: 500px; max-width: 800px; padding-left: 50px; padding-bottom: 2rem\">\n",
       "        <div style=\"clear: both;\">\n",
       "            <div style=\"float: left; padding: 0.25em;\">\n",
       "                <span style=\"font-size: x-large; padding: 0.25em;\">⚠️</span><span style=\"font-family: monospace;\">Just testing for now: answer2</span>\n",
       "            </div>    \n",
       "        </div>\n",
       "        <div style=\"clear: both;\">\n",
       "            <div style=\"float: left; vertical-align: middle; padding-top: 0.25em; padding-bottom: 1em;\">This is a test case in a reusable test.</div>\n",
       "        </div>\n",
       "    </div>\n",
       "\n",
       "</div>\n",
       "\n",
       "</div>\n",
       "        "
      ],
      "text/plain": [
       "<IPython.core.display.HTML object>"
      ]
     },
     "execution_count": 5,
     "metadata": {},
     "output_type": "execute_result"
    }
   ],
   "source": [
    "%%testing @answer2 add \n",
    "\n",
    "nbtest_cases = [\n",
    "    lambda: [test_lib.ImportableClass], \n",
    "]"
   ]
  },
  {
   "cell_type": "markdown",
   "metadata": {},
   "source": [
    "When `nbtest_cases` is specified test cases in the cell will be ignored. They have to be manually added back."
   ]
  },
  {
   "cell_type": "code",
   "execution_count": 6,
   "metadata": {},
   "outputs": [
    {
     "data": {
      "text/html": [
       "\n",
       "\n",
       " <div>\n",
       "    \n",
       "<div style=\"font-size: large; font-weight: bold;\">\n",
       "    <span style=\"font-size: xx-large; color: red\">☒</span>\n",
       "    Problems detected.\n",
       "</div>\n",
       "\n",
       "</div>\n",
       "<div>\n",
       "    \n",
       "<div>\n",
       "\n",
       "\n",
       "    <div style=\"width: 75%; min-width: 500px; max-width: 800px; padding-left: 50px; padding-bottom: 2rem\">\n",
       "        <div style=\"clear: both;\">\n",
       "            <div style=\"float: left; padding: 0.25em;\">\n",
       "                <span style=\"font-size: x-large; padding: 0.25em;\">⚠️</span><span style=\"font-family: monospace;\">foo</span>\n",
       "            </div>    \n",
       "        </div>\n",
       "        <div style=\"clear: both;\">\n",
       "            <div style=\"float: left; vertical-align: middle; padding-top: 0.25em; padding-bottom: 1em;\">The function <span style=\"font-family: monospace\">test_foo()</span> reported an error.</div>\n",
       "        </div>\n",
       "    </div>\n",
       "\n",
       "    <div style=\"width: 75%; min-width: 500px; max-width: 800px; padding-left: 50px; padding-bottom: 2rem\">\n",
       "        <div style=\"clear: both;\">\n",
       "            <div style=\"float: left; padding: 0.25em;\">\n",
       "                <span style=\"font-size: x-large; padding: 0.25em;\">⚠️</span><span style=\"font-family: monospace;\">a</span>\n",
       "            </div>    \n",
       "        </div>\n",
       "        <div style=\"clear: both;\">\n",
       "            <div style=\"float: left; vertical-align: middle; padding-top: 0.25em; padding-bottom: 1em;\">The function <span style=\"font-family: monospace\">Foo.test_a()</span> reported an error.</div>\n",
       "        </div>\n",
       "    </div>\n",
       "\n",
       "    <div style=\"width: 75%; min-width: 500px; max-width: 800px; padding-left: 50px; padding-bottom: 2rem\">\n",
       "        <div style=\"clear: both;\">\n",
       "            <div style=\"float: left; padding: 0.25em;\">\n",
       "                <span style=\"font-size: x-large; padding: 0.25em;\">⚠️</span><span style=\"font-family: monospace;\">b</span>\n",
       "            </div>    \n",
       "        </div>\n",
       "        <div style=\"clear: both;\">\n",
       "            <div style=\"float: left; vertical-align: middle; padding-top: 0.25em; padding-bottom: 1em;\">The function <span style=\"font-family: monospace\">Foo.test_b()</span> reported an error.</div>\n",
       "        </div>\n",
       "    </div>\n",
       "\n",
       "    <div style=\"width: 75%; min-width: 500px; max-width: 800px; padding-left: 50px; padding-bottom: 2rem\">\n",
       "        <div style=\"clear: both;\">\n",
       "            <div style=\"float: left; padding: 0.25em;\">\n",
       "                <span style=\"font-size: x-large; padding: 0.25em;\">⚠️</span><span style=\"font-family: monospace;\">z</span>\n",
       "            </div>    \n",
       "        </div>\n",
       "        <div style=\"clear: both;\">\n",
       "            <div style=\"float: left; vertical-align: middle; padding-top: 0.25em; padding-bottom: 1em;\">The function <span style=\"font-family: monospace\">Foo.test_z()</span> reported an error.</div>\n",
       "        </div>\n",
       "    </div>\n",
       "\n",
       "</div>\n",
       "\n",
       "</div>\n",
       "        "
      ],
      "text/plain": [
       "<IPython.core.display.HTML object>"
      ]
     },
     "execution_count": 6,
     "metadata": {},
     "output_type": "execute_result"
    }
   ],
   "source": [
    "%%testing @answer2 add \n",
    "\n",
    "import test_lib\n",
    "import unittest\n",
    "\n",
    "def test_foo():\n",
    "    assert False, \"foo\"\n",
    "\n",
    "class Foo(unittest.TestCase):\n",
    "\n",
    "    def test_a(self):\n",
    "        assert False, \"a\"\n",
    "\n",
    "    def test_z(self):\n",
    "        assert False, \"z\"\n",
    "\n",
    "    def test_b(self):\n",
    "        assert False, \"b\"\n",
    "\n",
    "nbtest_cases = [\n",
    "    lambda: [unittest.FunctionTestCase(test_foo)],\n",
    "    Foo,\n",
    "]"
   ]
  }
 ],
 "metadata": {
  "kernelspec": {
   "display_name": "venv-p4e",
   "language": "python",
   "name": "python3"
  },
  "language_info": {
   "codemirror_mode": {
    "name": "ipython",
    "version": 3
   },
   "file_extension": ".py",
   "mimetype": "text/x-python",
   "name": "python",
   "nbconvert_exporter": "python",
   "pygments_lexer": "ipython3",
   "version": "3.12.3"
  }
 },
 "nbformat": 4,
 "nbformat_minor": 2
}
