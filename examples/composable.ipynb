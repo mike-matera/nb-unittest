{
 "cells": [
  {
   "cell_type": "markdown",
   "metadata": {},
   "source": [
    "# Composable Test Cases \n",
    "\n",
    "Simple test cases are easy to embed. More complicated test cases can be kept in separate Python files and imported."
   ]
  },
  {
   "cell_type": "code",
   "execution_count": 1,
   "metadata": {},
   "outputs": [],
   "source": [
    "%load_ext nbtest"
   ]
  },
  {
   "cell_type": "code",
   "execution_count": 2,
   "metadata": {},
   "outputs": [],
   "source": [
    "\"\"\"@answer2\"\"\"\n",
    "\n",
    "def add(a, b):\n",
    "    \"\"\"My solution function\"\"\"\n",
    "    return a + b "
   ]
  },
  {
   "cell_type": "markdown",
   "metadata": {},
   "source": [
    "Check out `test_lib.py` for the complete example. Test symbols are made available to library code through the `nbtest.nbtest_attrs` dictionary. External tests are specified in the `nbtest_cases` variable, which is an iterable of:\n",
    "\n",
    "1. A string naming a module, class or function. (see [`unittest.TestLoader.loadTestsFromName()`](https://docs.python.org/3/library/unittest.html#unittest.TestLoader.loadTestsFromName))\n",
    "1. A module instance with test cases (see [`unittest.TestLoader.loadTestsFromModule()`](https://docs.python.org/3/library/unittest.html#unittest.TestLoader.loadTestsFromModule))\n",
    "1. A class definition that is derived from [`unittest.TestCase`](https://docs.python.org/3/library/unittest.html#unittest.TestCase) ((see [`unittest.TestLoader.loadTestsFromTestCase()`](https://docs.python.org/3/library/unittest.html#unittest.TestLoader.loadTestsFromTestCase)))\n",
    "1. An instance of a `unittest.TestCase`. For example, an instance of [`unittest.FunctionTestCase`](https://docs.python.org/3/library/unittest.html#unittest.FunctionTestCase) or [`unittest.TestSuite`](https://docs.python.org/3/library/unittest.html#unittest.TestSuite) with multiple subsidiary tests."
   ]
  },
  {
   "cell_type": "code",
   "execution_count": 3,
   "metadata": {},
   "outputs": [
    {
     "data": {
      "text/html": [
       "<div style=\"font-size: large; font-weight: bold; margin-bottom: 1em; margin-top: 0.5em\">\n",
       "    \n",
       "        ⚠️ Attention needed.\n",
       "        \n",
       "</div>\n",
       "<div>\n",
       "    \n",
       "        <div style=\"width: 75%; min-width: 500px; max-width: 800px; padding-left: 50px; padding-bottom: 2rem\">\n",
       "            <div style=\"clear: both;\">\n",
       "                <div style=\"float: left; padding: 0.25em;\">\n",
       "                    \n",
       "                        <span style=\"font-size: x-large; padding: 0.25em; color: red; font-weight: bold;\">❌</span>\n",
       "                    \n",
       "                    <span style=\"font-family: monospace;\">None</span>\n",
       "                </div>    \n",
       "            </div>\n",
       "            <div style=\"clear: both;\">\n",
       "                <div style=\"float: left; vertical-align: middle; padding-top: 0.25em; padding-bottom: 1em;\">The function <span style=\"font-family: monospace\">test_lib.ATestCase.test_reusable()</span> reported an error.</div>\n",
       "            </div>\n",
       "        </div>\n",
       "    \n",
       "</div>"
      ],
      "text/plain": [
       "<IPython.core.display.HTML object>"
      ]
     },
     "execution_count": 3,
     "metadata": {},
     "output_type": "execute_result"
    }
   ],
   "source": [
    "%%testing @answer2, add \n",
    "\n",
    "# Imports happen as a side effect.\n",
    "\n",
    "nbtest_cases = (\n",
    "    \"test_lib\",\n",
    "    \"test_lib.ATestCase\",\n",
    "    \"test_lib.lib_function\"\n",
    ")"
   ]
  },
  {
   "cell_type": "markdown",
   "metadata": {},
   "source": [
    "Test case intances can also be passed in:"
   ]
  },
  {
   "cell_type": "code",
   "execution_count": 4,
   "metadata": {},
   "outputs": [
    {
     "data": {
      "text/html": [
       "<div style=\"font-size: large; font-weight: bold; margin-bottom: 1em; margin-top: 0.5em\">\n",
       "    \n",
       "        ⚠️ Attention needed.\n",
       "        \n",
       "</div>\n",
       "<div>\n",
       "    \n",
       "        <div style=\"width: 75%; min-width: 500px; max-width: 800px; padding-left: 50px; padding-bottom: 2rem\">\n",
       "            <div style=\"clear: both;\">\n",
       "                <div style=\"float: left; padding: 0.25em;\">\n",
       "                    \n",
       "                        <span style=\"font-size: x-large; padding: 0.25em; color: red; font-weight: bold;\">❌</span>\n",
       "                    \n",
       "                    <span style=\"font-family: monospace;\">None</span>\n",
       "                </div>    \n",
       "            </div>\n",
       "            <div style=\"clear: both;\">\n",
       "                <div style=\"float: left; vertical-align: middle; padding-top: 0.25em; padding-bottom: 1em;\">The function <span style=\"font-family: monospace\">test_lib.ATestCase.test_reusable()</span> reported an error.</div>\n",
       "            </div>\n",
       "        </div>\n",
       "    \n",
       "</div>"
      ],
      "text/plain": [
       "<IPython.core.display.HTML object>"
      ]
     },
     "execution_count": 4,
     "metadata": {},
     "output_type": "execute_result"
    }
   ],
   "source": [
    "%%testing @answer2, add \n",
    "\n",
    "import test_lib\n",
    "\n",
    "nbtest_cases = [\n",
    "    test_lib,\n",
    "]"
   ]
  },
  {
   "cell_type": "markdown",
   "metadata": {},
   "source": [
    "Individual classes can be selected by string or by reference."
   ]
  },
  {
   "cell_type": "code",
   "execution_count": 5,
   "metadata": {},
   "outputs": [
    {
     "data": {
      "text/html": [
       "<div style=\"font-size: large; font-weight: bold; margin-bottom: 1em; margin-top: 0.5em\">\n",
       "    \n",
       "        ⚠️ Attention needed.\n",
       "        \n",
       "</div>\n",
       "<div>\n",
       "    \n",
       "        <div style=\"width: 75%; min-width: 500px; max-width: 800px; padding-left: 50px; padding-bottom: 2rem\">\n",
       "            <div style=\"clear: both;\">\n",
       "                <div style=\"float: left; padding: 0.25em;\">\n",
       "                    \n",
       "                        <span style=\"font-size: x-large; padding: 0.25em; color: red; font-weight: bold;\">❌</span>\n",
       "                    \n",
       "                    <span style=\"font-family: monospace;\">None</span>\n",
       "                </div>    \n",
       "            </div>\n",
       "            <div style=\"clear: both;\">\n",
       "                <div style=\"float: left; vertical-align: middle; padding-top: 0.25em; padding-bottom: 1em;\">The function <span style=\"font-family: monospace\">test_lib.ATestCase.test_reusable()</span> reported an error.</div>\n",
       "            </div>\n",
       "        </div>\n",
       "    \n",
       "</div>"
      ],
      "text/plain": [
       "<IPython.core.display.HTML object>"
      ]
     },
     "execution_count": 5,
     "metadata": {},
     "output_type": "execute_result"
    }
   ],
   "source": [
    "%%testing @answer2, add \n",
    "\n",
    "nbtest_cases = [\n",
    "    test_lib.ATestCase, \n",
    "]"
   ]
  },
  {
   "cell_type": "markdown",
   "metadata": {},
   "source": [
    "When `nbtest_cases` is specified test cases in the cell will be ignored. They have to be manually added back."
   ]
  },
  {
   "cell_type": "code",
   "execution_count": 6,
   "metadata": {},
   "outputs": [
    {
     "data": {
      "text/html": [
       "<div style=\"font-size: large; font-weight: bold; margin-bottom: 1em; margin-top: 0.5em\">\n",
       "    \n",
       "        ⚠️ Attention needed.\n",
       "        \n",
       "</div>\n",
       "<div>\n",
       "    \n",
       "        <div style=\"width: 75%; min-width: 500px; max-width: 800px; padding-left: 50px; padding-bottom: 2rem\">\n",
       "            <div style=\"clear: both;\">\n",
       "                <div style=\"float: left; padding: 0.25em;\">\n",
       "                    \n",
       "                        <span style=\"font-size: x-large; padding: 0.25em; color: red; font-weight: bold;\">❌</span>\n",
       "                    \n",
       "                    <span style=\"font-family: monospace;\">foo</span>\n",
       "                </div>    \n",
       "            </div>\n",
       "            <div style=\"clear: both;\">\n",
       "                <div style=\"float: left; vertical-align: middle; padding-top: 0.25em; padding-bottom: 1em;\">The function <span style=\"font-family: monospace\">test_foo()</span> reported an error.</div>\n",
       "            </div>\n",
       "        </div>\n",
       "    \n",
       "</div>"
      ],
      "text/plain": [
       "<IPython.core.display.HTML object>"
      ]
     },
     "execution_count": 6,
     "metadata": {},
     "output_type": "execute_result"
    }
   ],
   "source": [
    "%%testing @answer2, add \n",
    "\n",
    "import test_lib\n",
    "import unittest\n",
    "\n",
    "def test_foo():\n",
    "    assert False, \"foo\"\n",
    "\n",
    "class Foo(unittest.TestCase):\n",
    "\n",
    "    def test_a(self):\n",
    "        assert False, \"a\"\n",
    "\n",
    "    def test_z(self):\n",
    "        assert False, \"z\"\n",
    "\n",
    "    def test_b(self):\n",
    "        assert False, \"b\"\n",
    "\n",
    "nbtest_cases = [\n",
    "    unittest.FunctionTestCase(test_foo),\n",
    "    Foo,\n",
    "]"
   ]
  }
 ],
 "metadata": {
  "kernelspec": {
   "display_name": "venv-p4e",
   "language": "python",
   "name": "python3"
  },
  "language_info": {
   "codemirror_mode": {
    "name": "ipython",
    "version": 3
   },
   "file_extension": ".py",
   "mimetype": "text/x-python",
   "name": "python",
   "nbconvert_exporter": "python",
   "pygments_lexer": "ipython3",
   "version": "3.12.3"
  }
 },
 "nbformat": 4,
 "nbformat_minor": 2
}
