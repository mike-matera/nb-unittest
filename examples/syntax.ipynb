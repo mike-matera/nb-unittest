{
 "cells": [
  {
   "cell_type": "markdown",
   "metadata": {},
   "source": [
    "# Syntax Analysis \n",
    "\n",
    "This notebook demonstrates the syntax analysis features of `nbtest`. The purpose of syntax analysis is to provide an easy way to introspect the tested code. The introspection uses Pythons excellent `ast` package so there's no dependence on fragile regular expressions. "
   ]
  },
  {
   "cell_type": "code",
   "execution_count": 1,
   "metadata": {},
   "outputs": [],
   "source": [
    "%load_ext nbtest"
   ]
  },
  {
   "cell_type": "code",
   "execution_count": 2,
   "metadata": {},
   "outputs": [
    {
     "name": "stdout",
     "output_type": "stream",
     "text": [
      "Hello World\n"
     ]
    }
   ],
   "source": [
    "\"\"\"\n",
    "Firstname Lastname\n",
    "@answer1\n",
    "\"\"\"\n",
    "\n",
    "a = 100 \n",
    "b = 200 \n",
    "\n",
    "print(\"Hello World\")\n",
    "type(a < b)\n",
    "\n",
    "def myfunc(a, b, *x, y, **z):\n",
    "    \"\"\"This is myfunc.\"\"\"\n",
    "    print(\"myfunc\")\n",
    "    c = 300\n",
    "    d = 400 \n",
    "\n",
    "    def inner_myfunc(inner_a, inner_b):\n",
    "        \"\"\"An inner docstring\"\"\"\n",
    "        print(\"inner_myfunc\")\n",
    "        name = \"FOO\".lower()\n",
    "        return name + inner_a + inner_b\n",
    "            \n",
    "    return a + b + c + d\n",
    "\n",
    "class MyClass:\n",
    "    \"\"\"This is MyClass\"\"\"\n",
    "    E = 500\n",
    "    F = 600 \n",
    "\n",
    "    class InnerClass:\n",
    "        pass \n",
    "\n",
    "    def member(self, g, h):\n",
    "        \"\"\"Member function\"\"\"\n",
    "        print(\"member\")\n",
    "        i = 700\n",
    "        j = 800 \n",
    "        return self.E + self.F + g + h + i + j"
   ]
  },
  {
   "cell_type": "markdown",
   "metadata": {},
   "source": [
    "## Analysis API\n",
    "\n",
    "The `TagCacheEntry` class inherits the AnalysisAPI. `AnalysisNode`s can also be constructed on arbitrary source code."
   ]
  },
  {
   "cell_type": "code",
   "execution_count": 3,
   "metadata": {},
   "outputs": [
    {
     "name": "stdout",
     "output_type": "stream",
     "text": [
      "Help on AnalysisNode in module nbtest.analysis object:\n",
      "\n",
      "class AnalysisNode(builtins.object)\n",
      " |  AnalysisNode(source, tree=None)\n",
      " |\n",
      " |  An API for simple syntax analysis.\n",
      " |\n",
      " |  Methods defined here:\n",
      " |\n",
      " |  __init__(self, source, tree=None)\n",
      " |      Create an analysis node with optional source code.\n",
      " |\n",
      " |      source: Source code.\n",
      " |      tree: The parse tree or subtree corresponding to the source. If tree is\n",
      " |          None it will be generated using ast.parse(source)\n",
      " |\n",
      " |  count_assignments(self, name) -> set[str]\n",
      " |      Count the number of times the variable `name` is assigned.\n",
      " |\n",
      " |  count_calls(self, name) -> set[str]\n",
      " |      Count the number of times the function `name` is called.\n",
      " |\n",
      " |  count_references(self, name) -> set[str]\n",
      " |      Count the number of times the symbol `name` is referenced.\n",
      " |\n",
      " |  ----------------------------------------------------------------------\n",
      " |  Readonly properties defined here:\n",
      " |\n",
      " |  arguments\n",
      " |      If the current node is a function definition, the list of argument\n",
      " |      names in definition order.\n",
      " |\n",
      " |  assignments\n",
      " |      The set of the names of assigned variables in this node.\n",
      " |\n",
      " |  calls\n",
      " |      The set of names of the functions called in this node.\n",
      " |\n",
      " |  classes\n",
      " |      A dictionary of the names of defined classes and their corresponding\n",
      " |      AnalysisNode.\n",
      " |\n",
      " |  constants\n",
      " |      The set of all literal values in this node.\n",
      " |\n",
      " |  docstring\n",
      " |      The docstring of this node. `None` if there is no docstring.\n",
      " |\n",
      " |  functions\n",
      " |      A dictionary of the names of defined functions and their corresponding\n",
      " |      AnalysisNode.\n",
      " |\n",
      " |  references\n",
      " |      The set of the names of referenced attributes in this node. References\n",
      " |      are context loads, not stores. Assignments do not count as references.\n",
      " |\n",
      " |  source\n",
      " |      The source corresponding to the tokens in tree. If this node is a\n",
      " |      subtree only the source corresponding to the subtree is returned.\n",
      " |\n",
      " |  tokens\n",
      " |      A set of token classes from the current scope.\n",
      " |\n",
      " |  tree\n",
      " |      A deep copy of the parse tree or subtree that corresponding to this\n",
      " |      node.\n",
      " |\n",
      " |  ----------------------------------------------------------------------\n",
      " |  Data descriptors defined here:\n",
      " |\n",
      " |  __dict__\n",
      " |      dictionary for instance variables\n",
      " |\n",
      " |  __weakref__\n",
      " |      list of weak references to the object\n",
      "\n"
     ]
    }
   ],
   "source": [
    "import nbtest\n",
    "from nbtest.analysis import AnalysisNode\n",
    "\n",
    "entry = nbtest.get(\"@answer1\")\n",
    "assert isinstance(entry, AnalysisNode)\n",
    "\n",
    "n = AnalysisNode(\"\"\"print(\"Hello World\")\"\"\")\n",
    "help(n)"
   ]
  },
  {
   "cell_type": "markdown",
   "metadata": {},
   "source": [
    "## Access to the Source and Docstrings\n",
    "\n",
    "The API provides access to the source and docstring for convenience."
   ]
  },
  {
   "cell_type": "code",
   "execution_count": 4,
   "metadata": {},
   "outputs": [],
   "source": [
    "import nbtest \n",
    "import re \n",
    "\n",
    "answer1 = nbtest.get(\"@answer1\")\n",
    "\n",
    "assert re.search(r\"InnerClass\", answer1.source) is not None, \"\"\"I can't find InnerClass (the silly way)\"\"\"\n",
    "assert re.search(r\"Firstname\", answer1.docstring) is not None, \"\"\"I should see your name in the docstring.\"\"\""
   ]
  },
  {
   "cell_type": "markdown",
   "metadata": {},
   "source": [
    "## Syntax Queries \n",
    "\n",
    "The api in `analysis.py` seeks to make most questions about the syntax of a solution easy to write. It's simple to write a test that looks for the presence or the absence of a parse token:"
   ]
  },
  {
   "cell_type": "code",
   "execution_count": 5,
   "metadata": {},
   "outputs": [],
   "source": [
    "import ast\n",
    "\n",
    "answer1 = nbtest.get(\"@answer1\")\n",
    "\n",
    "assert ast.Lt in answer1.tokens, \"\"\"The solution must have the < operator.\"\"\"\n",
    "assert ast.Del not in answer1.tokens, \"\"\"You cannot use the del operator.\"\"\""
   ]
  },
  {
   "cell_type": "markdown",
   "metadata": {},
   "source": [
    "The `assignments` attribute contains the `set` of names of variables assigned at the root level of the parse tree. "
   ]
  },
  {
   "cell_type": "code",
   "execution_count": 6,
   "metadata": {},
   "outputs": [],
   "source": [
    "assert 'a' in answer1.assignments, \"\"\"You should assign the vairable a.\"\"\"\n",
    "assert 'b' in answer1.assignments, \"\"\"You should assign the vairable b.\"\"\"\n",
    "assert 'c' not in answer1.assignments, \"\"\"You should NOT assign the vairable c.\"\"\""
   ]
  },
  {
   "cell_type": "markdown",
   "metadata": {},
   "source": [
    "The `constants` attribute contains `the` set of all literal constants at the root level of the parse tree.  "
   ]
  },
  {
   "cell_type": "code",
   "execution_count": 7,
   "metadata": {},
   "outputs": [],
   "source": [
    "assert 100 in answer1.constants, \"\"\"You should have the constant 100 in your code.\"\"\"\n",
    "assert 300 not in answer1.constants, \"\"\"You should NOT have the constant 300 in your code.\"\"\"\n",
    "assert 500 not in answer1.constants, \"\"\"You should NOT have the constant 500 in your code.\"\"\""
   ]
  },
  {
   "cell_type": "markdown",
   "metadata": {},
   "source": [
    "The `calls` attribute contains the `set` of all function calls at the root level of the parse tree."
   ]
  },
  {
   "cell_type": "code",
   "execution_count": 8,
   "metadata": {},
   "outputs": [],
   "source": [
    "assert 'print' in answer1.calls, \"\"\"You should use print()\"\"\"\n",
    "assert 'lower' not in answer1.calls, \"\"\"You cannot use lower()\"\"\""
   ]
  },
  {
   "cell_type": "markdown",
   "metadata": {},
   "source": [
    "The `functions` attribute returns a `dict` of all function **definitions** at the root level of the parse tree. The dictionary values are `AnalysisNode`s that can be further inspected."
   ]
  },
  {
   "cell_type": "code",
   "execution_count": 9,
   "metadata": {},
   "outputs": [],
   "source": [
    "myfunc = answer1.functions[\"myfunc\"]\n",
    "\n",
    "# All of the previous attributes work. \n",
    "assert myfunc.docstring is not None, \"\"\"The function has no docstring.\"\"\"\n",
    "assert \"c\" in myfunc.assignments, \"\"\"The function should assign c\"\"\"\n",
    "assert \"name\" not in myfunc.assignments, \"\"\"The function should NOT assign name.\"\"\"\n",
    "\n",
    "# Function arguments. \n",
    "assert \"a\" in myfunc.arguments, \"\"\"The function should have an argument named a\"\"\"\n",
    "assert \"**z\" in myfunc.arguments, \"\"\"The function should have the generic kw argument named z\"\"\"\n",
    "\n",
    "# Inner functions are accessible. \n",
    "inner = myfunc.functions[\"inner_myfunc\"]\n",
    "assert \"name\" in inner.assignments, \"\"\"The inner function should assign name.\"\"\""
   ]
  },
  {
   "cell_type": "markdown",
   "metadata": {},
   "source": [
    "The `classes` attribute finds all of the class definitions at the root level of the parse tree:"
   ]
  },
  {
   "cell_type": "code",
   "execution_count": 10,
   "metadata": {},
   "outputs": [],
   "source": [
    "my_class = answer1.classes[\"MyClass\"]\n",
    "assert my_class.docstring is not None, \"\"\"MyClass should have a docstring.\"\"\"\n",
    "assert \"E\" in my_class.assignments,  \"\"\"MyClass must define the class variable E\"\"\"\n",
    "\n",
    "assert \"member\" in my_class.functions, \"\"\"MyClass should have a function called member()\"\"\"\n",
    "member = my_class.functions[\"member\"]\n",
    "assert member.docstring is not None, \"\"\"Member functions should have a docstring\"\"\""
   ]
  },
  {
   "cell_type": "markdown",
   "metadata": {},
   "source": [
    "## Countables \n",
    "\n",
    "Some of the syntax attributes have count methods that allow you to count the number\n",
    "of items with a particular name."
   ]
  },
  {
   "cell_type": "code",
   "execution_count": 18,
   "metadata": {},
   "outputs": [],
   "source": [
    "assert 1 == answer1.count_assignments(\"a\"), \"\"\"The variable a should be assigned once.\"\"\"\n",
    "assert 1 == answer1.count_references(\"b\"), \"\"\"The variable b should only be used once.\"\"\"\n",
    "assert 1 == answer1.count_calls(\"print\"), \"\"\"You should only call print() once.\"\"\""
   ]
  },
  {
   "cell_type": "markdown",
   "metadata": {},
   "source": [
    "## Tree Access \n",
    "\n",
    "You can write your own analysis methods using direct access to the parse tree."
   ]
  },
  {
   "cell_type": "code",
   "execution_count": 11,
   "metadata": {},
   "outputs": [
    {
     "name": "stdout",
     "output_type": "stream",
     "text": [
      "Found: a\n",
      "Found: b\n",
      "Found: print\n",
      "Found: type\n",
      "Found: a\n",
      "Found: b\n",
      "Found: print\n",
      "Found: c\n",
      "Found: d\n",
      "Found: print\n",
      "Found: name\n",
      "Found: name\n",
      "Found: inner_a\n",
      "Found: inner_b\n",
      "Found: a\n",
      "Found: b\n",
      "Found: c\n",
      "Found: d\n",
      "Found: E\n",
      "Found: F\n",
      "Found: print\n",
      "Found: i\n",
      "Found: j\n",
      "Found: self\n",
      "Found: self\n",
      "Found: g\n",
      "Found: h\n",
      "Found: i\n",
      "Found: j\n"
     ]
    }
   ],
   "source": [
    "import ast \n",
    "\n",
    "# Write your own visitors with tree \n",
    "class FindNames(ast.NodeVisitor):\n",
    "    def visit_Name(self, node: ast.Name):\n",
    "        print(\"Found:\", node.id)\n",
    "\n",
    "FindNames().visit(answer1.tree)"
   ]
  }
 ],
 "metadata": {
  "kernelspec": {
   "display_name": "venv-p4e",
   "language": "python",
   "name": "python3"
  },
  "language_info": {
   "codemirror_mode": {
    "name": "ipython",
    "version": 3
   },
   "file_extension": ".py",
   "mimetype": "text/x-python",
   "name": "python",
   "nbconvert_exporter": "python",
   "pygments_lexer": "ipython3",
   "version": "3.12.3"
  }
 },
 "nbformat": 4,
 "nbformat_minor": 2
}
