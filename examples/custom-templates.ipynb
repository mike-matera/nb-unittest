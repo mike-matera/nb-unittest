{
 "cells": [
  {
   "cell_type": "markdown",
   "metadata": {},
   "source": [
    "# Overriding the HTML Templates\n",
    "\n",
    "The default templates are designed to provide student centered feedback. If they're not for you you can provide your own Jinja2 templates."
   ]
  },
  {
   "cell_type": "code",
   "execution_count": 1,
   "metadata": {},
   "outputs": [],
   "source": [
    "%load_ext nbtest"
   ]
  },
  {
   "cell_type": "code",
   "execution_count": 2,
   "metadata": {},
   "outputs": [],
   "source": [
    "\"\"\"@answer2\"\"\"\n",
    "\n",
    "def add(a, b):\n",
    "    return a + b"
   ]
  },
  {
   "cell_type": "markdown",
   "metadata": {},
   "source": [
    "The `nbtest.templ` package contains variables that are used to override the default templates."
   ]
  },
  {
   "cell_type": "code",
   "execution_count": 3,
   "metadata": {},
   "outputs": [],
   "source": [
    "# Use your own template by a string.\n",
    "\n",
    "import jinja2 \n",
    "from nbtest.templ import templ\n",
    "\n",
    "templ.fail = jinja2.Environment().from_string(\"\"\"\n",
    "<ol>\n",
    "{% for item in result.failures + result.errors %}\n",
    "    <li><b>{{ item[0] }}</b><br><i>{{ item[1] }}</i>\n",
    "{% endfor %}\n",
    "</ol>\n",
    "\"\"\")"
   ]
  },
  {
   "cell_type": "code",
   "execution_count": 4,
   "metadata": {},
   "outputs": [
    {
     "data": {
      "text/html": [
       "\n",
       "<ol>\n",
       "\n",
       "    <li><b>This is a bad test.</b><br><i>3 != 0 : add(1,2)</i>\n",
       "\n",
       "</ol>"
      ],
      "text/plain": [
       "<IPython.core.display.HTML object>"
      ]
     },
     "execution_count": 4,
     "metadata": {},
     "output_type": "execute_result"
    }
   ],
   "source": [
    "%%testing @answer2 add\n",
    "\n",
    "import unittest \n",
    "\n",
    "class TestTemplate(unittest.TestCase):\n",
    "\n",
    "    def test_badd(self):\n",
    "        \"\"\"This is a bad test.\"\"\"\n",
    "        self.assertEqual(add(1,2), 0, \"add(1,2)\")"
   ]
  },
  {
   "cell_type": "markdown",
   "metadata": {},
   "source": [
    "You can also override the `TestRunner` to substitute any `unittest` class hierarchy you like. "
   ]
  },
  {
   "cell_type": "code",
   "execution_count": 5,
   "metadata": {},
   "outputs": [],
   "source": [
    "import unittest\n",
    "from nbtest import magic \n",
    "\n",
    "magic.runner_class = unittest.TextTestRunner"
   ]
  },
  {
   "cell_type": "markdown",
   "metadata": {},
   "source": [
    "Templates are still rendered. The implementation of `nbtest.unit.NotebookResult` is compatible with `unittest.TestResult`."
   ]
  },
  {
   "cell_type": "code",
   "execution_count": 6,
   "metadata": {},
   "outputs": [
    {
     "name": "stderr",
     "output_type": "stream",
     "text": [
      "F\n",
      "======================================================================\n",
      "FAIL: test_add (builtins.TestTemplate.test_add)\n",
      "This is a bad test.\n",
      "----------------------------------------------------------------------\n",
      "Traceback (most recent call last):\n",
      "  File \"<testcell>\", line 8, in test_add\n",
      "AssertionError: 3 != 0 : add(1,2)\n",
      "\n",
      "----------------------------------------------------------------------\n",
      "Ran 1 test in 0.001s\n",
      "\n",
      "FAILED (failures=1)\n"
     ]
    },
    {
     "data": {
      "text/html": [
       "\n",
       "<ol>\n",
       "\n",
       "    <li><b>test_add (builtins.TestTemplate.test_add)</b><br><i>Traceback (most recent call last):\n",
       "  File \"<testcell>\", line 8, in test_add\n",
       "AssertionError: 3 != 0 : add(1,2)\n",
       "</i>\n",
       "\n",
       "</ol>"
      ],
      "text/plain": [
       "<IPython.core.display.HTML object>"
      ]
     },
     "execution_count": 6,
     "metadata": {},
     "output_type": "execute_result"
    }
   ],
   "source": [
    "%%testing @answer2 add\n",
    "\n",
    "import unittest \n",
    "\n",
    "class TestTemplate(unittest.TestCase):\n",
    "\n",
    "    def test_add(self):\n",
    "        \"\"\"This is a bad test.\"\"\"\n",
    "        self.assertEqual(add(1,2), 0, \"add(1,2)\")"
   ]
  }
 ],
 "metadata": {
  "kernelspec": {
   "display_name": "venv-p4e",
   "language": "python",
   "name": "python3"
  },
  "language_info": {
   "codemirror_mode": {
    "name": "ipython",
    "version": 3
   },
   "file_extension": ".py",
   "mimetype": "text/x-python",
   "name": "python",
   "nbconvert_exporter": "python",
   "pygments_lexer": "ipython3",
   "version": "3.12.3"
  }
 },
 "nbformat": 4,
 "nbformat_minor": 2
}
