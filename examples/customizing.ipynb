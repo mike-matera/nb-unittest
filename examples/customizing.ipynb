{
 "cells": [
  {
   "cell_type": "markdown",
   "metadata": {},
   "source": [
    "# Customizing Test Output\n",
    "\n",
    "Want to customize the output of `nbtest`?  There are two key ways to modify the test flow and output:\n",
    "\n",
    "1. By providing an alternate `untittest.TestRunner` to manage the test cycle. \n",
    "1. By providing templates that override the templates in the `templates/` directory.\n",
    " \n",
    "The default templates are designed to provide student centered feedback. If they're not for you you can provide your own Jinja2 templates."
   ]
  },
  {
   "cell_type": "code",
   "execution_count": 1,
   "metadata": {},
   "outputs": [],
   "source": [
    "%load_ext nbtest"
   ]
  },
  {
   "cell_type": "code",
   "execution_count": 2,
   "metadata": {},
   "outputs": [],
   "source": [
    "\"\"\"@answer2\"\"\"\n",
    "\n",
    "def add(a, b):\n",
    "    return a + b"
   ]
  },
  {
   "cell_type": "markdown",
   "metadata": {},
   "source": [
    "The `nbtest.cache.runner_class` variable contains the default runner class. By default it's set to `nbtest.unit.NotebookTestRunner`, which has fewer features than `unittest.TextTestRunner` but provides results more suitable for students. The test code is compatible with other classes in `unittest` so you can replace the runner with your own implementation. "
   ]
  },
  {
   "cell_type": "code",
   "execution_count": 3,
   "metadata": {},
   "outputs": [],
   "source": [
    "import unittest\n",
    "import nbtest.cache\n",
    "\n",
    "nbtest.cache.runner_class = unittest.TextTestRunner"
   ]
  },
  {
   "cell_type": "markdown",
   "metadata": {},
   "source": [
    "If you like the funky printouts of `unittest.TextTestRunner` you can use it. The `%%testing` magic renders the HTML templates at the end of a run. The HTML templates are compatible with `unittest.TextTestResult`. They just provide less friendly responses."
   ]
  },
  {
   "cell_type": "code",
   "execution_count": 4,
   "metadata": {},
   "outputs": [
    {
     "name": "stderr",
     "output_type": "stream",
     "text": [
      "F\n",
      "======================================================================\n",
      "FAIL: test_badd (builtins.TestTemplate)\n",
      "This is a bad test.\n",
      "----------------------------------------------------------------------\n",
      "Traceback (most recent call last):\n",
      "  File \"<testing>\", line 8, in test_badd\n",
      "AssertionError: 3 != 0 : add(1,2)\n",
      "\n",
      "----------------------------------------------------------------------\n",
      "Ran 1 test in 0.001s\n",
      "\n",
      "FAILED (failures=1)\n"
     ]
    },
    {
     "data": {
      "text/html": [
       "\n",
       "\n",
       " <div>\n",
       "    \n",
       "\n",
       "    <div style=\"font-size: large; font-weight: bold;\">\n",
       "    <span style=\"font-size: xx-large; color: red\">☒</span>\n",
       "    Problems detected.\n",
       "</div>\n",
       "\n",
       "\n",
       "</div>\n",
       "<div>\n",
       "    \n",
       "<div>\n",
       "\n",
       "    <div style=\"width: 75%; min-width: 500px; max-width: 800px; padding-left: 50px; padding-bottom: 2rem\">\n",
       "        <div style=\"clear: both;\">\n",
       "            <div style=\"float: left; padding: 0.25em;\">\n",
       "                \n",
       "                    <span style=\"font-size: x-large; padding: 0.25em;\">❌</span>\n",
       "                \n",
       "                <span style=\"font-family: monospace;\">Traceback (most recent call last):\n",
       "  File &#34;&lt;testing&gt;&#34;, line 8, in test_badd\n",
       "AssertionError: 3 != 0 : add(1,2)\n",
       "</span>\n",
       "            </div>    \n",
       "        </div>\n",
       "        <div style=\"clear: both;\">\n",
       "            <div style=\"float: left; vertical-align: middle; padding-top: 0.25em; padding-bottom: 1em;\">test_badd (builtins.TestTemplate)</div>\n",
       "        </div>\n",
       "    </div>\n",
       "\n",
       "</div>\n",
       "\n",
       "</div>\n",
       "        "
      ],
      "text/plain": [
       "<IPython.core.display.HTML object>"
      ]
     },
     "execution_count": 4,
     "metadata": {},
     "output_type": "execute_result"
    }
   ],
   "source": [
    "%%testing @answer2 add\n",
    "\n",
    "import unittest \n",
    "\n",
    "class TestTemplate(unittest.TestCase):\n",
    "\n",
    "    def test_badd(self):\n",
    "        \"\"\"This is a bad test.\"\"\"\n",
    "        self.assertEqual(add(1,2), 0, \"add(1,2)\")"
   ]
  },
  {
   "cell_type": "markdown",
   "metadata": {},
   "source": [
    "The `nbtest.templ` package contains variables that are used to override the default templates."
   ]
  },
  {
   "cell_type": "code",
   "execution_count": 5,
   "metadata": {},
   "outputs": [],
   "source": [
    "# Use your own template by a string.\n",
    "\n",
    "import jinja2 \n",
    "from nbtest.templ import templ\n",
    "\n",
    "templ.result = jinja2.Environment().from_string(\"\"\"\n",
    "Bulleted list of problems:\n",
    "<ol>\n",
    "{% for item in result.failures + result.errors %}\n",
    "    <li><b>{{ item[0] }}</b><br><i>{{ item[1] }}</i>\n",
    "{% endfor %}\n",
    "</ol>\n",
    "\"\"\")"
   ]
  },
  {
   "cell_type": "code",
   "execution_count": 6,
   "metadata": {},
   "outputs": [
    {
     "name": "stderr",
     "output_type": "stream",
     "text": [
      "FF.\n",
      "======================================================================\n",
      "FAIL: test_bad1 (builtins.TestTemplate)\n",
      "This is a bad test.\n",
      "----------------------------------------------------------------------\n",
      "Traceback (most recent call last):\n",
      "  File \"<testing>\", line 12, in test_bad1\n",
      "AssertionError: 3 != 0 : add(1,2)\n",
      "\n",
      "======================================================================\n",
      "FAIL: test_bad2 (builtins.TestTemplate)\n",
      "This is a bad test.\n",
      "----------------------------------------------------------------------\n",
      "Traceback (most recent call last):\n",
      "  File \"<testing>\", line 16, in test_bad2\n",
      "AssertionError: 3 != 0 : add(1,2)\n",
      "\n",
      "----------------------------------------------------------------------\n",
      "Ran 3 tests in 0.003s\n",
      "\n",
      "FAILED (failures=2)\n"
     ]
    },
    {
     "data": {
      "text/html": [
       "\n",
       "Bulleted list of problems:\n",
       "<ol>\n",
       "\n",
       "    <li><b>test_bad1 (builtins.TestTemplate)</b><br><i>Traceback (most recent call last):\n",
       "  File \"<testing>\", line 12, in test_bad1\n",
       "AssertionError: 3 != 0 : add(1,2)\n",
       "</i>\n",
       "\n",
       "    <li><b>test_bad2 (builtins.TestTemplate)</b><br><i>Traceback (most recent call last):\n",
       "  File \"<testing>\", line 16, in test_bad2\n",
       "AssertionError: 3 != 0 : add(1,2)\n",
       "</i>\n",
       "\n",
       "</ol>"
      ],
      "text/plain": [
       "<IPython.core.display.HTML object>"
      ]
     },
     "execution_count": 6,
     "metadata": {},
     "output_type": "execute_result"
    }
   ],
   "source": [
    "%%testing @answer2 add\n",
    "\n",
    "import unittest \n",
    "\n",
    "class TestTemplate(unittest.TestCase):\n",
    "\n",
    "    def test_ok(self):\n",
    "        \"\"\"This is a good test.\"\"\"\n",
    "        self.assertEqual(add(1,2), 3, \"add(1,2)\")\n",
    "\n",
    "    def test_bad1(self):\n",
    "        \"\"\"This is a bad test.\"\"\"\n",
    "        self.assertEqual(add(1,2), 0, \"add(1,2)\")\n",
    "    \n",
    "    def test_bad2(self):\n",
    "        \"\"\"This is a bad test.\"\"\"\n",
    "        self.assertEqual(add(1,2), 0, \"add(1,2)\")"
   ]
  }
 ],
 "metadata": {
  "kernelspec": {
   "display_name": "venv-p4e",
   "language": "python",
   "name": "python3"
  },
  "language_info": {
   "codemirror_mode": {
    "name": "ipython",
    "version": 3
   },
   "file_extension": ".py",
   "mimetype": "text/x-python",
   "name": "python",
   "nbconvert_exporter": "python",
   "pygments_lexer": "ipython3",
   "version": "3.10.12"
  }
 },
 "nbformat": 4,
 "nbformat_minor": 2
}
