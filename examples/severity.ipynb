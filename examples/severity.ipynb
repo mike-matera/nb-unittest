{
 "cells": [
  {
   "cell_type": "code",
   "execution_count": 1,
   "metadata": {},
   "outputs": [],
   "source": [
    "%load_ext nbtest"
   ]
  },
  {
   "cell_type": "code",
   "execution_count": 2,
   "metadata": {},
   "outputs": [],
   "source": [
    "a = 100 \n",
    "b = 200 "
   ]
  },
  {
   "cell_type": "code",
   "execution_count": 3,
   "metadata": {},
   "outputs": [
    {
     "data": {
      "text/plain": [
       "True"
      ]
     },
     "execution_count": 3,
     "metadata": {},
     "output_type": "execute_result"
    }
   ],
   "source": [
    "\"\"\"@answer1\"\"\"\n",
    "\n",
    "a < b"
   ]
  },
  {
   "cell_type": "code",
   "execution_count": 4,
   "metadata": {},
   "outputs": [
    {
     "data": {
      "text/plain": [
       "False"
      ]
     },
     "execution_count": 4,
     "metadata": {},
     "output_type": "execute_result"
    },
    {
     "data": {
      "text/plain": [
       "False"
      ]
     },
     "execution_count": 4,
     "metadata": {},
     "output_type": "execute_result"
    },
    {
     "data": {
      "text/plain": [
       "False"
      ]
     },
     "execution_count": 4,
     "metadata": {},
     "output_type": "execute_result"
    },
    {
     "data": {
      "text/plain": [
       "False"
      ]
     },
     "execution_count": 4,
     "metadata": {},
     "output_type": "execute_result"
    },
    {
     "data": {
      "text/html": [
       "\n",
       "\n",
       " <div>\n",
       "    \n",
       "\n",
       "    <div style=\"font-size: large; font-weight: bold;\">\n",
       "    <span style=\"font-size: xx-large; color: red\">☒</span>\n",
       "    Problems detected.\n",
       "</div>\n",
       "\n",
       "\n",
       "</div>\n",
       "<div>\n",
       "    \n",
       "<div>\n",
       "\n",
       "    <div style=\"width: 75%; min-width: 500px; max-width: 800px; padding-left: 50px; padding-bottom: 2rem\">\n",
       "        <div style=\"clear: both;\">\n",
       "            <div style=\"float: left; padding: 0.25em;\">\n",
       "                \n",
       "                    <span style=\"font-size: x-large; padding: 0.25em;\">ℹ️</span>\n",
       "                \n",
       "                <span style=\"font-family: monospace;\">1 &lt; 2 != True</span>\n",
       "            </div>    \n",
       "        </div>\n",
       "        <div style=\"clear: both;\">\n",
       "            <div style=\"float: left; vertical-align: middle; padding-top: 0.25em; padding-bottom: 1em;\">There is something that requires a look but is not necessarily an error.</div>\n",
       "        </div>\n",
       "    </div>\n",
       "\n",
       "    <div style=\"width: 75%; min-width: 500px; max-width: 800px; padding-left: 50px; padding-bottom: 2rem\">\n",
       "        <div style=\"clear: both;\">\n",
       "            <div style=\"float: left; padding: 0.25em;\">\n",
       "                \n",
       "                    <span style=\"font-size: x-large; padding: 0.25em;\">⚠️</span>\n",
       "                \n",
       "                <span style=\"font-family: monospace;\">1 &lt; 2 != True</span>\n",
       "            </div>    \n",
       "        </div>\n",
       "        <div style=\"clear: both;\">\n",
       "            <div style=\"float: left; vertical-align: middle; padding-top: 0.25em; padding-bottom: 1em;\">This demands attention and is probably an error but maybe not.</div>\n",
       "        </div>\n",
       "    </div>\n",
       "\n",
       "    <div style=\"width: 75%; min-width: 500px; max-width: 800px; padding-left: 50px; padding-bottom: 2rem\">\n",
       "        <div style=\"clear: both;\">\n",
       "            <div style=\"float: left; padding: 0.25em;\">\n",
       "                \n",
       "                    <span style=\"font-size: x-large; padding: 0.25em;\">❌</span>\n",
       "                \n",
       "                <span style=\"font-family: monospace;\">1 &lt; 2 != True</span>\n",
       "            </div>    \n",
       "        </div>\n",
       "        <div style=\"clear: both;\">\n",
       "            <div style=\"float: left; vertical-align: middle; padding-top: 0.25em; padding-bottom: 1em;\">An error has happened.</div>\n",
       "        </div>\n",
       "    </div>\n",
       "\n",
       "    <div style=\"width: 75%; min-width: 500px; max-width: 800px; padding-left: 50px; padding-bottom: 2rem\">\n",
       "        <div style=\"clear: both;\">\n",
       "            <div style=\"float: left; padding: 0.25em;\">\n",
       "                \n",
       "                    <span style=\"font-size: x-large; padding: 0.25em;\">❌</span>\n",
       "                \n",
       "                <span style=\"font-family: monospace;\">1 &lt; 2 != True</span>\n",
       "            </div>    \n",
       "        </div>\n",
       "        <div style=\"clear: both;\">\n",
       "            <div style=\"float: left; vertical-align: middle; padding-top: 0.25em; padding-bottom: 1em;\">Unless otherwise specified, a failure is an error.</div>\n",
       "        </div>\n",
       "    </div>\n",
       "\n",
       "</div>\n",
       "\n",
       "</div>\n",
       "        "
      ],
      "text/plain": [
       "<IPython.core.display.HTML object>"
      ]
     },
     "execution_count": 4,
     "metadata": {},
     "output_type": "execute_result"
    }
   ],
   "source": [
    "%%testing @answer1\n",
    "\n",
    "from nbtest import info, warning, error\n",
    "\n",
    "# Functions that start with `test` become a `FunctionTestCase`\n",
    "@info\n",
    "def test_info(): \n",
    "    \"\"\"There is something that requires a look but is not necessarily an error.\"\"\"\n",
    "    assert answer1.run({'a': 2, 'b': 2}) == True, \"1 < 2 != True\"\n",
    "\n",
    "@warning\n",
    "def test_warning(): \n",
    "    \"\"\"This demands attention and is probably an error but maybe not.\"\"\"\n",
    "    assert answer1.run({'a': 2, 'b': 2}) == True, \"1 < 2 != True\"\n",
    "\n",
    "@error\n",
    "def test_error(): \n",
    "    \"\"\"An error has happened.\"\"\"\n",
    "    assert answer1.run({'a': 2, 'b': 2}) == True, \"1 < 2 != True\"\n",
    "\n",
    "def test_also_error(): \n",
    "    \"\"\"Unless otherwise specified, a failure is an error.\"\"\"\n",
    "    assert answer1.run({'a': 2, 'b': 2}) == True, \"1 < 2 != True\"\n"
   ]
  }
 ],
 "metadata": {
  "kernelspec": {
   "display_name": "venv-p4e",
   "language": "python",
   "name": "python3"
  },
  "language_info": {
   "codemirror_mode": {
    "name": "ipython",
    "version": 3
   },
   "file_extension": ".py",
   "mimetype": "text/x-python",
   "name": "python",
   "nbconvert_exporter": "python",
   "pygments_lexer": "ipython3",
   "version": "3.10.12"
  }
 },
 "nbformat": 4,
 "nbformat_minor": 2
}
