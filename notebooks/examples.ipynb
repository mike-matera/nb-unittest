{
 "cells": [
  {
   "cell_type": "code",
   "execution_count": 1,
   "metadata": {},
   "outputs": [],
   "source": [
    "%load_ext nbtest"
   ]
  },
  {
   "cell_type": "code",
   "execution_count": 2,
   "metadata": {},
   "outputs": [],
   "source": [
    "a = 100 \n",
    "b = 200 "
   ]
  },
  {
   "cell_type": "code",
   "execution_count": 3,
   "metadata": {},
   "outputs": [
    {
     "data": {
      "text/plain": [
       "True"
      ]
     },
     "execution_count": 3,
     "metadata": {},
     "output_type": "execute_result"
    }
   ],
   "source": [
    "\"\"\"@answer1\"\"\"\n",
    "\n",
    "a < b"
   ]
  },
  {
   "cell_type": "code",
   "execution_count": 4,
   "metadata": {},
   "outputs": [
    {
     "name": "stdout",
     "output_type": "stream",
     "text": [
      "Answer source: \"\"\"@answer1\"\"\"\n",
      "\n",
      "a < b\n",
      "\n",
      "Answer result: <class 'IPython.core.interactiveshell.ExecutionResult'>\n",
      "Answer result value: True\n"
     ]
    },
    {
     "data": {
      "text/plain": [
       "False"
      ]
     },
     "execution_count": 4,
     "metadata": {},
     "output_type": "execute_result"
    },
    {
     "name": "stdout",
     "output_type": "stream",
     "text": [
      "Re-run answer: False\n",
      "Original result value: True\n"
     ]
    }
   ],
   "source": [
    "import nbtest\n",
    "\n",
    "answer1 = nbtest.find('@answer1')\n",
    "print(\"Answer source:\", answer1.source)\n",
    "print(\"Answer result:\", type(answer1.result))\n",
    "print(\"Answer result value:\", answer1.result.result)\n",
    "\n",
    "a = 200\n",
    "b = 100 \n",
    "print(\"Re-run answer:\", answer1.run())\n",
    "\n",
    "# run() doesn't affect the cache.\n",
    "print(\"Original result value:\", answer1.result.result)\n",
    " "
   ]
  },
  {
   "cell_type": "code",
   "execution_count": 5,
   "metadata": {},
   "outputs": [
    {
     "data": {
      "text/html": [
       "\n",
       "\n",
       " <div>\n",
       "    \n",
       "<div style=\"font-size: large; font-weight: bold;\">\n",
       "    <span style=\"font-size: xx-large; color: blue;\">🗹</span>\n",
       "    All tests passed.\n",
       "</div>\n",
       "\n",
       "</div>\n",
       "<div>\n",
       "    \n",
       "    \n",
       "</div>\n",
       "        "
      ],
      "text/plain": [
       "<IPython.core.display.HTML object>"
      ]
     },
     "execution_count": 5,
     "metadata": {},
     "output_type": "execute_result"
    }
   ],
   "source": [
    "%%testing @answer1\n",
    "\n",
    "import ast \n",
    "\n",
    "# The `answer1` variable contains the cell cache entry \n",
    "assert ast.Lt in answer1.tokens, \"I don't see less than!\"\n",
    "assert ast.Gt not in answer1.tokens, \"I see greater than!\"\n"
   ]
  },
  {
   "cell_type": "code",
   "execution_count": 6,
   "metadata": {},
   "outputs": [
    {
     "data": {
      "text/html": [
       "\n",
       "\n",
       " <div>\n",
       "    \n",
       "<div style=\"font-size: large; font-weight: bold;\">\n",
       "    <span style=\"font-size: xx-large; color: red\">☒</span>\n",
       "    Assertion error.\n",
       "</div>\n",
       "\n",
       "</div>\n",
       "<div>\n",
       "    \n",
       "The answer doesn&#39;t contain the a less than sign.\n",
       "\n",
       "</div>\n",
       "        "
      ],
      "text/plain": [
       "<IPython.core.display.HTML object>"
      ]
     },
     "execution_count": 6,
     "metadata": {},
     "output_type": "execute_result"
    }
   ],
   "source": [
    "%%testing @answer1\n",
    "\n",
    "# Failures don't stop the cell.\n",
    "assert ast.Lt not in answer1.tokens, \"The answer doesn't contain the a less than sign.\""
   ]
  },
  {
   "cell_type": "code",
   "execution_count": 7,
   "metadata": {},
   "outputs": [
    {
     "data": {
      "text/plain": [
       "True"
      ]
     },
     "execution_count": 7,
     "metadata": {},
     "output_type": "execute_result"
    },
    {
     "data": {
      "text/plain": [
       "False"
      ]
     },
     "execution_count": 7,
     "metadata": {},
     "output_type": "execute_result"
    },
    {
     "data": {
      "text/html": [
       "\n",
       "\n",
       " <div>\n",
       "    \n",
       "<div style=\"font-size: large; font-weight: bold;\">\n",
       "    <span style=\"font-size: xx-large; color: blue;\">🗹</span>\n",
       "    All tests passed.\n",
       "</div>\n",
       "\n",
       "</div>\n",
       "<div>\n",
       "    \n",
       "    \n",
       "</div>\n",
       "        "
      ],
      "text/plain": [
       "<IPython.core.display.HTML object>"
      ]
     },
     "execution_count": 7,
     "metadata": {},
     "output_type": "execute_result"
    }
   ],
   "source": [
    "%%testing @answer1\n",
    "\n",
    "# The `shell` variable contains the interactive shell.\n",
    "shell.push({'a': 1, 'b': 2}) \n",
    "assert answer1.run() == True, \"1 < 2 != True\"\n",
    "\n",
    "# `run()` optionally pushes variables too.\n",
    "assert answer1.run({'a': 3, 'b': 2}) == False, \"3 < 2 != False\"\n",
    "\n",
    "# Output from running the cell is below "
   ]
  },
  {
   "cell_type": "code",
   "execution_count": 8,
   "metadata": {},
   "outputs": [
    {
     "data": {
      "text/plain": [
       "True"
      ]
     },
     "execution_count": 8,
     "metadata": {},
     "output_type": "execute_result"
    },
    {
     "data": {
      "text/plain": [
       "False"
      ]
     },
     "execution_count": 8,
     "metadata": {},
     "output_type": "execute_result"
    },
    {
     "data": {
      "text/plain": [
       "True"
      ]
     },
     "execution_count": 8,
     "metadata": {},
     "output_type": "execute_result"
    },
    {
     "data": {
      "text/plain": [
       "True"
      ]
     },
     "execution_count": 8,
     "metadata": {},
     "output_type": "execute_result"
    },
    {
     "data": {
      "text/html": [
       "\n",
       "\n",
       " <div>\n",
       "    \n",
       "<div style=\"font-size: large; font-weight: bold;\">\n",
       "    <span style=\"font-size: xx-large; color: red\">☒</span>\n",
       "    Problems detected.\n",
       "</div>\n",
       "\n",
       "</div>\n",
       "<div>\n",
       "    \n",
       "<div>\n",
       "\n",
       "\n",
       "    <div style=\"width: 75%; min-width: 500px; max-width: 800px; padding-left: 50px; padding-bottom: 2rem\">\n",
       "        <div style=\"clear: both;\">\n",
       "            <div style=\"float: left; padding: 0.25em;\">\n",
       "                <span style=\"font-size: x-large; padding: 0.25em;\">⚠️</span><span style=\"font-family: monospace;\">1 < 2 != True</span>\n",
       "            </div>    \n",
       "        </div>\n",
       "        <div style=\"clear: both;\">\n",
       "            <div style=\"float: left; vertical-align: middle; padding-top: 0.25em; padding-bottom: 1em;\">The test function <span style=\"font-family: monospace\">test_broken_nodoc()</span> reported an error. \n",
       "            Match the message shown above to the line of code that caused the problem.</div>\n",
       "        </div>\n",
       "    </div>\n",
       "\n",
       "    <div style=\"width: 75%; min-width: 500px; max-width: 800px; padding-left: 50px; padding-bottom: 2rem\">\n",
       "        <div style=\"clear: both;\">\n",
       "            <div style=\"float: left; padding: 0.25em;\">\n",
       "                <span style=\"font-size: x-large; padding: 0.25em;\">⚠️</span><span style=\"font-family: monospace;\">1 < 2 != True</span>\n",
       "            </div>    \n",
       "        </div>\n",
       "        <div style=\"clear: both;\">\n",
       "            <div style=\"float: left; vertical-align: middle; padding-top: 0.25em; padding-bottom: 1em;\">The test description is used to provide feedback to the learner. They will see this message when the test fails. It's useful to put a hint here.</div>\n",
       "        </div>\n",
       "    </div>\n",
       "\n",
       "</div>\n",
       "\n",
       "</div>\n",
       "        "
      ],
      "text/plain": [
       "<IPython.core.display.HTML object>"
      ]
     },
     "execution_count": 8,
     "metadata": {},
     "output_type": "execute_result"
    }
   ],
   "source": [
    "%%testing @answer1\n",
    "\n",
    "# Functions that start with `test` become a `FunctionTestCase`\n",
    "def test_lt(): \n",
    "    \"\"\"Testing less than.\"\"\"\n",
    "    assert answer1.run({'a': 1, 'b': 2}) == True, \"1 < 2 != True\"\n",
    "    assert answer1.run({'a': 3, 'b': 2}) == False, \"3 < 2 != False\"    \n",
    "\n",
    "def test_broken_nodoc(): \n",
    "    assert answer1.run({'a': 1, 'b': 2}) == False, \"1 < 2 != True\"\n",
    "\n",
    "def test_broken_withdoc(): \n",
    "    \"\"\"The test description is used to provide feedback to the learner. They will see this message when the test fails. It's useful to put a hint here.\"\"\"\n",
    "    assert answer1.run({'a': 1, 'b': 2}) == False, \"1 < 2 != True\" \n"
   ]
  },
  {
   "cell_type": "code",
   "execution_count": 9,
   "metadata": {},
   "outputs": [],
   "source": [
    "\"\"\"@answer2\"\"\"\n",
    "\n",
    "def add(a, b):\n",
    "    \"\"\"My solution function\"\"\"\n",
    "    return a + b "
   ]
  },
  {
   "cell_type": "code",
   "execution_count": 10,
   "metadata": {},
   "outputs": [
    {
     "data": {
      "text/html": [
       "\n",
       "\n",
       " <div>\n",
       "    \n",
       "<div style=\"font-size: large; font-weight: bold;\">\n",
       "    <span style=\"font-size: xx-large; color: red\">☒</span>\n",
       "    Problems detected.\n",
       "</div>\n",
       "\n",
       "</div>\n",
       "<div>\n",
       "    \n",
       "<div>\n",
       "\n",
       "\n",
       "    <div style=\"width: 75%; min-width: 500px; max-width: 800px; padding-left: 50px; padding-bottom: 2rem\">\n",
       "        <div style=\"clear: both;\">\n",
       "            <div style=\"float: left; padding: 0.25em;\">\n",
       "                <span style=\"font-size: x-large; padding: 0.25em;\">⚠️</span><span style=\"font-family: monospace;\">TypeError: unsupported operand type(s) for +: 'int' and 'str'</span>\n",
       "            </div>    \n",
       "        </div>\n",
       "        <div style=\"clear: both;\">\n",
       "            <div style=\"float: left; vertical-align: middle; padding-top: 0.25em; padding-bottom: 1em;\">What happens?</div>\n",
       "        </div>\n",
       "    </div>\n",
       "\n",
       "</div>\n",
       "\n",
       "</div>\n",
       "        "
      ],
      "text/plain": [
       "<IPython.core.display.HTML object>"
      ]
     },
     "execution_count": 10,
     "metadata": {},
     "output_type": "execute_result"
    }
   ],
   "source": [
    "%%testing @answer2 add\n",
    "\n",
    "# Attributes must be listed to be present in the test namespace.\n",
    "assert add.__doc__ is not None, \"add() doesn't have a docstring.\"\n",
    "\n",
    "def test_add():\n",
    "    assert add(1,2) == 3, \"1 + 2 != 3\"\n",
    "    assert add(-2,-2) == -4, \"-2 + -2 != -4\"\n",
    "    assert add(1,-3) == -2, \"1 + -3 != -2\"\n",
    "\n",
    "def test_err():\n",
    "    \"\"\"What happens?\"\"\"\n",
    "    assert add(0,\"bogus\"), \"This is a bogus test.\""
   ]
  },
  {
   "cell_type": "code",
   "execution_count": 11,
   "metadata": {},
   "outputs": [
    {
     "data": {
      "text/html": [
       "\n",
       "\n",
       " <div>\n",
       "    \n",
       "<div style=\"font-size: large; font-weight: bold;\">\n",
       "    <span style=\"font-size: xx-large; color: red\">☒</span>\n",
       "    Problems detected.\n",
       "</div>\n",
       "\n",
       "</div>\n",
       "<div>\n",
       "    \n",
       "<div>\n",
       "\n",
       "\n",
       "    <div style=\"width: 75%; min-width: 500px; max-width: 800px; padding-left: 50px; padding-bottom: 2rem\">\n",
       "        <div style=\"clear: both;\">\n",
       "            <div style=\"float: left; padding: 0.25em;\">\n",
       "                <span style=\"font-size: x-large; padding: 0.25em;\">⚠️</span><span style=\"font-family: monospace;\">3 != 0 : add(1,2)</span>\n",
       "            </div>    \n",
       "        </div>\n",
       "        <div style=\"clear: both;\">\n",
       "            <div style=\"float: left; vertical-align: middle; padding-top: 0.25em; padding-bottom: 1em;\">Bad test with documentation.</div>\n",
       "        </div>\n",
       "    </div>\n",
       "\n",
       "    <div style=\"width: 75%; min-width: 500px; max-width: 800px; padding-left: 50px; padding-bottom: 2rem\">\n",
       "        <div style=\"clear: both;\">\n",
       "            <div style=\"float: left; padding: 0.25em;\">\n",
       "                <span style=\"font-size: x-large; padding: 0.25em;\">⚠️</span><span style=\"font-family: monospace;\">3 != 0 : add(1,2)</span>\n",
       "            </div>    \n",
       "        </div>\n",
       "        <div style=\"clear: both;\">\n",
       "            <div style=\"float: left; vertical-align: middle; padding-top: 0.25em; padding-bottom: 1em;\">The test function <span style=\"font-family: monospace\">TestAdd.test_badd_nodoc()</span> reported an error. \n",
       "            Match the message shown above to the line of code that caused the problem.</div>\n",
       "        </div>\n",
       "    </div>\n",
       "\n",
       "</div>\n",
       "\n",
       "</div>\n",
       "        "
      ],
      "text/plain": [
       "<IPython.core.display.HTML object>"
      ]
     },
     "execution_count": 11,
     "metadata": {},
     "output_type": "execute_result"
    }
   ],
   "source": [
    "%%testing @answer2 add \n",
    "\n",
    "# Get the full power of TestCase (or write your own)\n",
    "\n",
    "import unittest\n",
    "\n",
    "class TestAdd(unittest.TestCase):\n",
    "\n",
    "    def test_add(self):\n",
    "        self.assertEqual(add(1,2), 3, \"add(1,2)\")\n",
    "        self.assertEqual(add(-2,-2), -4, \"add(-2,-2)\")\n",
    "        self.assertEqual(add(1,-3), -2, \"add(-1,-3)\")\n",
    "\n",
    "    def test_badd_nodoc(self):\n",
    "        self.assertEqual(add(1,2), 0, \"add(1,2)\")\n",
    "\n",
    "    def test_badd_doc(self):\n",
    "        \"\"\"Bad test with documentation.\"\"\"\n",
    "        self.assertEqual(add(1,2), 0, \"add(1,2)\")\n",
    "\n",
    "    def test_skip_me(self):\n",
    "        self.skipTest(\"This test isn't relevant.\")"
   ]
  },
  {
   "cell_type": "code",
   "execution_count": 12,
   "metadata": {},
   "outputs": [
    {
     "data": {
      "text/html": [
       "\n",
       "\n",
       " <div>\n",
       "    \n",
       "<div style=\"font-size: large; font-weight: bold;\">\n",
       "    <span style=\"font-size: xx-large; color: red\">☒</span>\n",
       "    Solution not found.\n",
       "</div>\n",
       "\n",
       "</div>\n",
       "<div>\n",
       "    \n",
       "The attribute &#39;bogus&#39; is missing. Have you run all cells?\n",
       "\n",
       "</div>\n",
       "        "
      ],
      "text/plain": [
       "<IPython.core.display.HTML object>"
      ]
     },
     "execution_count": 12,
     "metadata": {},
     "output_type": "execute_result"
    }
   ],
   "source": [
    "%%testing bogus \n",
    "\n",
    "# Bad params cause an error. \n",
    "pass"
   ]
  },
  {
   "cell_type": "code",
   "execution_count": 13,
   "metadata": {},
   "outputs": [],
   "source": [
    "# Use your own template\n",
    "\n",
    "import jinja2 \n",
    "from nbtest.templ import templ\n",
    "templ.fail = jinja2.Environment().from_string(\"\"\"\n",
    "<ol>\n",
    "{% for item in result.failures + result.errors %}\n",
    "    <li><b>{{ item[0] }}</b><br><i>{{ item[1] }}</i>\n",
    "{% endfor %}\n",
    "</ol>\n",
    "\"\"\")"
   ]
  },
  {
   "cell_type": "code",
   "execution_count": 14,
   "metadata": {},
   "outputs": [
    {
     "data": {
      "text/html": [
       "\n",
       "<ol>\n",
       "\n",
       "    <li><b>This is a bad test.</b><br><i>3 != 0 : add(1,2)</i>\n",
       "\n",
       "</ol>"
      ],
      "text/plain": [
       "<IPython.core.display.HTML object>"
      ]
     },
     "execution_count": 14,
     "metadata": {},
     "output_type": "execute_result"
    }
   ],
   "source": [
    "%%testing @answer2 \n",
    "import sys\n",
    "class TestTemplate(unittest.TestCase):\n",
    "\n",
    "    def test_badd(self):\n",
    "        \"\"\"This is a bad test.\"\"\"\n",
    "        self.assertEqual(add(1,2), 0, \"add(1,2)\")"
   ]
  }
 ],
 "metadata": {
  "kernelspec": {
   "display_name": "Python 3 (ipykernel)",
   "language": "python",
   "name": "python3"
  },
  "language_info": {
   "codemirror_mode": {
    "name": "ipython",
    "version": 3
   },
   "file_extension": ".py",
   "mimetype": "text/x-python",
   "name": "python",
   "nbconvert_exporter": "python",
   "pygments_lexer": "ipython3",
   "version": "3.12.3"
  }
 },
 "nbformat": 4,
 "nbformat_minor": 4
}
