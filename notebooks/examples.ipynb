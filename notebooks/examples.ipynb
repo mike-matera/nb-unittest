{
 "cells": [
  {
   "cell_type": "code",
   "execution_count": 13,
   "metadata": {},
   "outputs": [
    {
     "name": "stdout",
     "output_type": "stream",
     "text": [
      "The nbtest extension is already loaded. To reload it, use:\n",
      "  %reload_ext nbtest\n"
     ]
    }
   ],
   "source": [
    "%load_ext nbtest"
   ]
  },
  {
   "cell_type": "code",
   "execution_count": 15,
   "metadata": {},
   "outputs": [],
   "source": [
    "a = 100 \n",
    "b = 200 "
   ]
  },
  {
   "cell_type": "code",
   "execution_count": 16,
   "metadata": {},
   "outputs": [
    {
     "data": {
      "text/plain": [
       "True"
      ]
     },
     "execution_count": 16,
     "metadata": {},
     "output_type": "execute_result"
    }
   ],
   "source": [
    "\"\"\"@answer1\"\"\"\n",
    "\n",
    "a < b"
   ]
  },
  {
   "cell_type": "code",
   "execution_count": 17,
   "metadata": {},
   "outputs": [
    {
     "data": {
      "text/html": [
       "EAT ME"
      ],
      "text/plain": [
       "<IPython.core.display.HTML object>"
      ]
     },
     "execution_count": 17,
     "metadata": {},
     "output_type": "execute_result"
    }
   ],
   "source": [
    "%%testing @answer1\n",
    "\n",
    "import ast \n",
    "\n",
    "# The `answer1` variable contains the cell cache entry \n",
    "assert ast.Lt in answer1.tokens, \"I don't see less than!\"\n",
    "assert ast.Gt not in answer1.tokens, \"I see greater than!\"\n"
   ]
  },
  {
   "cell_type": "code",
   "execution_count": 18,
   "metadata": {},
   "outputs": [
    {
     "data": {
      "text/html": [
       "The assertion failed: Kaboom!"
      ],
      "text/plain": [
       "<IPython.core.display.HTML object>"
      ]
     },
     "execution_count": 18,
     "metadata": {},
     "output_type": "execute_result"
    }
   ],
   "source": [
    "%%testing @answer1\n",
    "\n",
    "# Failures don't stop the cell.\n",
    "assert ast.Lt not in answer1.tokens, \"Kaboom!\""
   ]
  },
  {
   "cell_type": "code",
   "execution_count": 19,
   "metadata": {},
   "outputs": [
    {
     "data": {
      "text/plain": [
       "True"
      ]
     },
     "execution_count": 19,
     "metadata": {},
     "output_type": "execute_result"
    },
    {
     "data": {
      "text/plain": [
       "False"
      ]
     },
     "execution_count": 19,
     "metadata": {},
     "output_type": "execute_result"
    },
    {
     "data": {
      "text/html": [
       "EAT ME"
      ],
      "text/plain": [
       "<IPython.core.display.HTML object>"
      ]
     },
     "execution_count": 19,
     "metadata": {},
     "output_type": "execute_result"
    }
   ],
   "source": [
    "%%testing @answer1\n",
    "\n",
    "# The `shell` variable contains the interactive shell.\n",
    "shell.push({'a': 1, 'b': 2}) \n",
    "assert answer1.run() == True, \"1 < 2 != True\"\n",
    "\n",
    "# `run()` optionally pushes variables too.\n",
    "assert answer1.run({'a': 3, 'b': 2}) == False, \"3 < 2 != False\"\n",
    "\n",
    "# Output from running the cell is below "
   ]
  },
  {
   "cell_type": "code",
   "execution_count": 20,
   "metadata": {},
   "outputs": [
    {
     "data": {
      "text/plain": [
       "True"
      ]
     },
     "execution_count": 20,
     "metadata": {},
     "output_type": "execute_result"
    },
    {
     "data": {
      "text/plain": [
       "False"
      ]
     },
     "execution_count": 20,
     "metadata": {},
     "output_type": "execute_result"
    },
    {
     "data": {
      "text/plain": [
       "True"
      ]
     },
     "execution_count": 20,
     "metadata": {},
     "output_type": "execute_result"
    },
    {
     "data": {
      "text/html": [
       "Tests have failed:\n",
       "\n",
       "<ul>\n",
       "\n",
       "    <li><b>unittest.case.FunctionTestCase (test_broken)</b><br>Traceback (most recent call last):\n",
       "  File &#34;&lt;testcell&gt;&#34;, line 10, in test_broken\n",
       "AssertionError: 1 &lt; 2 != True\n",
       "\n",
       "\n",
       "</ul>"
      ],
      "text/plain": [
       "<IPython.core.display.HTML object>"
      ]
     },
     "execution_count": 20,
     "metadata": {},
     "output_type": "execute_result"
    }
   ],
   "source": [
    "%%testing @answer1\n",
    "\n",
    "# Functions that start with `test` become a `FunctionTestCase`\n",
    "def test_lt(): \n",
    "    \"\"\"Testing less than.\"\"\"\n",
    "    assert answer1.run({'a': 1, 'b': 2}) == True, \"1 < 2 != True\"\n",
    "    assert answer1.run({'a': 3, 'b': 2}) == False, \"3 < 2 != False\"    \n",
    "\n",
    "def test_broken(): \n",
    "    \"\"\"Testing less than.\"\"\"\n",
    "    assert answer1.run({'a': 1, 'b': 2}) == False, \"1 < 2 != True\"\n"
   ]
  },
  {
   "cell_type": "code",
   "execution_count": 21,
   "metadata": {},
   "outputs": [],
   "source": [
    "\"\"\"@answer2\"\"\"\n",
    "\n",
    "def add(a, b):\n",
    "    \"\"\"My solution function\"\"\"\n",
    "    return a + b "
   ]
  },
  {
   "cell_type": "code",
   "execution_count": 22,
   "metadata": {},
   "outputs": [
    {
     "data": {
      "text/html": [
       "EAT ME"
      ],
      "text/plain": [
       "<IPython.core.display.HTML object>"
      ]
     },
     "execution_count": 22,
     "metadata": {},
     "output_type": "execute_result"
    }
   ],
   "source": [
    "%%testing @answer2 add\n",
    "\n",
    "# Attributes must be listed to be present\n",
    "assert add.__doc__ is not None, \"add() doesn't have a docstring.\"\n",
    "\n",
    "def test_add():\n",
    "    assert add(1,2) == 3, \"1 + 2 != 3\"\n",
    "    assert add(-2,-2) == -4, \"-2 + -2 != -4\"\n",
    "    assert add(1,-3) == -2, \"1 + -3 != -2\""
   ]
  },
  {
   "cell_type": "code",
   "execution_count": 27,
   "metadata": {},
   "outputs": [
    {
     "data": {
      "text/html": [
       "\n",
       "<ol>\n",
       "\n",
       "    <li><b>test_badd (builtins.TestAdd.test_badd)</b><br>Traceback (most recent call last):\n",
       "  File \"<testcell>\", line 14, in test_badd\n",
       "AssertionError: 3 != 0 : add(1,2)\n",
       "\n",
       "\n",
       "</ol>"
      ],
      "text/plain": [
       "<IPython.core.display.HTML object>"
      ]
     },
     "execution_count": 27,
     "metadata": {},
     "output_type": "execute_result"
    }
   ],
   "source": [
    "%%testing @answer2 add \n",
    "\n",
    "# Get the full power of TestCase (or write your own)\n",
    "\n",
    "import unittest\n",
    "\n",
    "class TestAdd(unittest.TestCase):\n",
    "\n",
    "    def test_add(self):\n",
    "        self.assertEqual(add(1,2), 3, \"add(1,2)\")\n",
    "        self.assertEqual(add(-2,-2), -4, \"add(-2,-2)\")\n",
    "        self.assertEqual(add(1,-3), -2, \"add(-1,-3)\")\n",
    "\n",
    "    def test_badd(self):\n",
    "        self.assertEqual(add(1,2), 0, \"add(1,2)\")"
   ]
  },
  {
   "cell_type": "code",
   "execution_count": 24,
   "metadata": {},
   "outputs": [
    {
     "data": {
      "text/html": [
       "The name &#39;bogus&#39; does not exist. Have you run all cells?"
      ],
      "text/plain": [
       "<IPython.core.display.HTML object>"
      ]
     },
     "execution_count": 24,
     "metadata": {},
     "output_type": "execute_result"
    }
   ],
   "source": [
    "%%testing bogus \n",
    "\n",
    "# Bad params cause an error. \n",
    "pass"
   ]
  },
  {
   "cell_type": "code",
   "execution_count": 30,
   "metadata": {},
   "outputs": [],
   "source": [
    "# Use your own template\n",
    "\n",
    "import jinja2 \n",
    "from nbtest.templ import templ\n",
    "templ.fail = jinja2.Environment().from_string(\"\"\"\n",
    "<ol>\n",
    "{% for item in result.failures + result.errors %}\n",
    "    <li><b>{{ item[0] }}</b><br><i>{{ item[1] }}</i>\n",
    "{% endfor %}\n",
    "</ol>\n",
    "\"\"\")"
   ]
  },
  {
   "cell_type": "code",
   "execution_count": 31,
   "metadata": {},
   "outputs": [
    {
     "data": {
      "text/html": [
       "\n",
       "<ol>\n",
       "\n",
       "    <li><b>test_badd (builtins.TestTempalte.test_badd)</b><br><i>Traceback (most recent call last):\n",
       "  File \"<testcell>\", line 5, in test_badd\n",
       "AssertionError: 3 != 0 : add(1,2)\n",
       "</i>\n",
       "\n",
       "</ol>"
      ],
      "text/plain": [
       "<IPython.core.display.HTML object>"
      ]
     },
     "execution_count": 31,
     "metadata": {},
     "output_type": "execute_result"
    }
   ],
   "source": [
    "%%testing @answer2 \n",
    "\n",
    "class TestTemplate(unittest.TestCase):\n",
    "\n",
    "    def test_badd(self):\n",
    "        self.assertEqual(add(1,2), 0, \"add(1,2)\")"
   ]
  }
 ],
 "metadata": {
  "kernelspec": {
   "display_name": "venv-p4e",
   "language": "python",
   "name": "python3"
  },
  "language_info": {
   "codemirror_mode": {
    "name": "ipython",
    "version": 3
   },
   "file_extension": ".py",
   "mimetype": "text/x-python",
   "name": "python",
   "nbconvert_exporter": "python",
   "pygments_lexer": "ipython3",
   "version": "3.12.3"
  }
 },
 "nbformat": 4,
 "nbformat_minor": 2
}
