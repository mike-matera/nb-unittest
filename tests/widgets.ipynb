{
 "cells": [
  {
   "cell_type": "code",
   "execution_count": 1,
   "metadata": {},
   "outputs": [],
   "source": [
    "%load_ext nbtest"
   ]
  },
  {
   "cell_type": "code",
   "execution_count": 2,
   "id": "59759126",
   "metadata": {},
   "outputs": [],
   "source": [
    "import time\n",
    "import ipywidgets\n",
    "from IPython.display import HTML\n",
    "import nbtest"
   ]
  },
  {
   "cell_type": "code",
   "execution_count": 3,
   "id": "42658db2",
   "metadata": {},
   "outputs": [],
   "source": [
    "\"\"\"@solution\"\"\"\n",
    "\n",
    "def make_html(name):\n",
    "    time.sleep(1)\n",
    "    return HTML(f\"Hello <b>{name}</b>!\")\n"
   ]
  },
  {
   "cell_type": "code",
   "execution_count": null,
   "id": "f8987c57",
   "metadata": {},
   "outputs": [],
   "source": [
    "\"\"\"@widgets\"\"\"\n",
    "\n",
    "display(ipywidgets.interactive(\n",
    "    make_html,\n",
    "    {'auto_display': True, 'manual': True},\n",
    "    name = \"Zelda Pinwheel\",\n",
    "))"
   ]
  },
  {
   "cell_type": "code",
   "execution_count": 5,
   "id": "41a08ad9",
   "metadata": {},
   "outputs": [],
   "source": [
    "import nbtest\n",
    "\n",
    "w = nbtest.get('@widgets')"
   ]
  },
  {
   "cell_type": "code",
   "execution_count": null,
   "id": "0df98a4d",
   "metadata": {},
   "outputs": [],
   "source": [
    "%%testing @solution, @widgets, make_html\n",
    "\n",
    "import ipywidgets\n",
    "import asyncio\n",
    "from contextlib import asynccontextmanager\n",
    "from IPython.display import HTML \n",
    "from unittest import IsolatedAsyncioTestCase, TestCase\n",
    "\n",
    "def test_solution():\n",
    "    assert solution \n",
    "    assert \"make_html\" in solution.functions\n",
    "\n",
    "def test_make_html():\n",
    "    assert make_html\n",
    "    assert callable(make_html)\n",
    "    html = make_html('foo')\n",
    "    assert isinstance(html, HTML)\n",
    "\n",
    "\n",
    "@asynccontextmanager\n",
    "async def wait_for(widget, names):\n",
    "    fut = asyncio.Future()\n",
    "    def obs(change):\n",
    "        fut.set_result(change)\n",
    "        widget.unobserve(obs, names)\n",
    "    widget.observe(obs, names=names)\n",
    "    try:\n",
    "        yield fut \n",
    "    finally:\n",
    "        await fut \n",
    "\n",
    "class WidgetTest(TestCase):\n",
    "\n",
    "    async def test_widgets(self):\n",
    "        r = widgets.run()\n",
    "        button = r.outputs[0].children[1]\n",
    "        output = r.outputs[0].children[2]      \n",
    "\n",
    "        assert isinstance(button, ipywidgets.Button)  \n",
    "        assert isinstance(output, ipywidgets.Output)  \n",
    "\n",
    "        async with wait_for(output, \"outputs\"):\n",
    "            button.click()"
   ]
  },
  {
   "cell_type": "code",
   "execution_count": 7,
   "id": "e40e37f3",
   "metadata": {},
   "outputs": [],
   "source": [
    "nbtest.check_error()"
   ]
  }
 ],
 "metadata": {
  "kernelspec": {
   "display_name": "venv-p4e",
   "language": "python",
   "name": "python3"
  },
  "language_info": {
   "codemirror_mode": {
    "name": "ipython",
    "version": 3
   },
   "file_extension": ".py",
   "mimetype": "text/x-python",
   "name": "python",
   "nbconvert_exporter": "python",
   "pygments_lexer": "ipython3",
   "version": "3.12.3"
  }
 },
 "nbformat": 4,
 "nbformat_minor": 5
}
