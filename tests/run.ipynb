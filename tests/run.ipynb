{
 "cells": [
  {
   "cell_type": "code",
   "execution_count": 1,
   "metadata": {},
   "outputs": [],
   "source": [
    "%load_ext nbtest"
   ]
  },
  {
   "cell_type": "code",
   "execution_count": 2,
   "metadata": {},
   "outputs": [
    {
     "name": "stdout",
     "output_type": "stream",
     "text": [
      "<code object display at 0x2f805f0, file \"/home/maximus/p4e/venv-p4e/lib/python3.12/site-packages/IPython/core/display_functions.py\", line 105>\n"
     ]
    }
   ],
   "source": [
    "print(display.__code__)"
   ]
  },
  {
   "cell_type": "code",
   "execution_count": 3,
   "metadata": {},
   "outputs": [
    {
     "data": {
      "text/plain": [
       "-100"
      ]
     },
     "execution_count": 3,
     "metadata": {},
     "output_type": "execute_result"
    }
   ],
   "source": [
    "\"\"\"\n",
    "@runtest\n",
    "\"\"\"\n",
    "\n",
    "c = 300 \n",
    "d = 400\n",
    "\n",
    "c - d"
   ]
  },
  {
   "cell_type": "code",
   "execution_count": 4,
   "metadata": {},
   "outputs": [],
   "source": [
    "import nbtest \n",
    "\n",
    "t = nbtest.get(\"@runtest\")\n",
    "assert t.run().result == -100\n",
    "assert t.run({'c': 0}).result == -400\n",
    "assert t.run({'d': 0}).result == 300"
   ]
  },
  {
   "cell_type": "code",
   "execution_count": 5,
   "metadata": {},
   "outputs": [
    {
     "data": {
      "text/plain": [
       "0"
      ]
     },
     "execution_count": 5,
     "metadata": {},
     "output_type": "execute_result"
    }
   ],
   "source": [
    "\"\"\"\n",
    "@runtest\n",
    "\"\"\"\n",
    "\n",
    "c = d = 100\n",
    "c - d"
   ]
  },
  {
   "cell_type": "code",
   "execution_count": 6,
   "metadata": {},
   "outputs": [],
   "source": [
    "import nbtest \n",
    "\n",
    "t = nbtest.get(\"@runtest\")\n",
    "assert t.run().result == 0\n",
    "assert t.run({'c': 0}).result == -100\n",
    "assert t.run({'d': 0}).result == 100"
   ]
  },
  {
   "cell_type": "code",
   "execution_count": 7,
   "metadata": {},
   "outputs": [
    {
     "data": {
      "text/plain": [
       "0"
      ]
     },
     "execution_count": 7,
     "metadata": {},
     "output_type": "execute_result"
    }
   ],
   "source": [
    "\"\"\"\n",
    "@runtest\n",
    "\"\"\"\n",
    "\n",
    "c, d = 100, 100\n",
    "c - d"
   ]
  },
  {
   "cell_type": "code",
   "execution_count": 8,
   "metadata": {},
   "outputs": [],
   "source": [
    "import nbtest \n",
    "\n",
    "t = nbtest.get(\"@runtest\")\n",
    "assert t.run().result == 0\n",
    "assert t.run({'c': 0}).result == -100\n",
    "assert t.run({'d': 0}).result == 100"
   ]
  },
  {
   "cell_type": "code",
   "execution_count": 9,
   "metadata": {},
   "outputs": [],
   "source": [
    "\"\"\"\n",
    "@runtest\n",
    "\"\"\"\n",
    "\n",
    "c = 100 \n",
    "if c < 100:\n",
    "    c = \"less\"\n",
    "elif c > 100:\n",
    "    c = \"more\"\n",
    "else:\n",
    "    c = \"same\""
   ]
  },
  {
   "cell_type": "code",
   "execution_count": 10,
   "metadata": {},
   "outputs": [],
   "source": [
    "import nbtest \n",
    "\n",
    "t = nbtest.get(\"@runtest\")\n",
    "assert t.run().result is None\n",
    "\n",
    "t.run({'c': 0})\n",
    "assert c == \"less\"\n",
    "t.run({'c': 200})\n",
    "assert c == \"more\"\n",
    "t.run({'c': 100})\n",
    "assert c == \"same\""
   ]
  },
  {
   "cell_type": "code",
   "execution_count": 11,
   "metadata": {},
   "outputs": [
    {
     "name": "stdout",
     "output_type": "stream",
     "text": [
      "No result.\n"
     ]
    }
   ],
   "source": [
    "\"\"\"\n",
    "@runtest \n",
    "\"\"\"\n",
    "\n",
    "print(\"No result.\")"
   ]
  },
  {
   "cell_type": "code",
   "execution_count": 12,
   "metadata": {},
   "outputs": [],
   "source": [
    "import nbtest\n",
    "\n",
    "t = nbtest.get(\"@runtest\")\n",
    "result = t.run()\n",
    "assert result.outputs == []\n",
    "assert result.result is None"
   ]
  },
  {
   "cell_type": "code",
   "execution_count": 13,
   "metadata": {},
   "outputs": [
    {
     "data": {
      "text/plain": [
       "'Output but no result.'"
      ]
     },
     "metadata": {},
     "output_type": "display_data"
    }
   ],
   "source": [
    "\"\"\"\n",
    "@runtest\n",
    "\"\"\"\n",
    "\n",
    "display(\"Output but no result.\")"
   ]
  },
  {
   "cell_type": "code",
   "execution_count": 14,
   "metadata": {},
   "outputs": [],
   "source": [
    "import nbtest\n",
    "\n",
    "t = nbtest.get(\"@runtest\")\n",
    "result = t.run()\n",
    "assert result.outputs == [\"Output but no result.\"]\n",
    "assert result.result is None "
   ]
  },
  {
   "cell_type": "code",
   "execution_count": 15,
   "metadata": {},
   "outputs": [
    {
     "name": "stdout",
     "output_type": "stream",
     "text": [
      "hello stdout\n"
     ]
    },
    {
     "name": "stderr",
     "output_type": "stream",
     "text": [
      "hello stderr\n"
     ]
    },
    {
     "data": {
      "text/plain": [
       "'hello display'"
      ]
     },
     "metadata": {},
     "output_type": "display_data"
    },
    {
     "data": {
      "text/plain": [
       "'hello implicit display'"
      ]
     },
     "execution_count": 15,
     "metadata": {},
     "output_type": "execute_result"
    }
   ],
   "source": [
    "\"\"\"\n",
    "@runtest\n",
    "\"\"\"\n",
    "import sys \n",
    "\n",
    "print(\"hello stdout\")\n",
    "print(\"hello stderr\", file=sys.stderr)\n",
    "display(\"hello display\")\n",
    "\"hello implicit display\""
   ]
  },
  {
   "cell_type": "code",
   "execution_count": 16,
   "metadata": {},
   "outputs": [],
   "source": [
    "import nbtest\n",
    "\n",
    "t = nbtest.get(\"@runtest\")\n",
    "result = t.run()\n",
    "assert result \n",
    "assert result.stdout.startswith(\"hello stdout\\n\")\n",
    "assert result.stderr == \"hello stderr\\n\"\n",
    "assert result.result == \"hello implicit display\"\n",
    "assert result.outputs == [ \"hello display\", \"hello implicit display\" ]"
   ]
  }
 ],
 "metadata": {
  "kernelspec": {
   "display_name": "venv-p4e",
   "language": "python",
   "name": "python3"
  },
  "language_info": {
   "codemirror_mode": {
    "name": "ipython",
    "version": 3
   },
   "file_extension": ".py",
   "mimetype": "text/x-python",
   "name": "python",
   "nbconvert_exporter": "python",
   "pygments_lexer": "ipython3",
   "version": "3.12.3"
  }
 },
 "nbformat": 4,
 "nbformat_minor": 2
}
