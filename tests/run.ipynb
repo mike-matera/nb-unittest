{
 "cells": [
  {
   "cell_type": "code",
   "execution_count": null,
   "metadata": {},
   "outputs": [],
   "source": [
    "%load_ext nb_unittest"
   ]
  },
  {
   "cell_type": "code",
   "execution_count": null,
   "metadata": {},
   "outputs": [],
   "source": [
    "\"\"\"\n",
    "@runtest\n",
    "\"\"\"\n",
    "\n",
    "c = 300 \n",
    "d = 400\n",
    "\n",
    "c - d"
   ]
  },
  {
   "cell_type": "code",
   "execution_count": null,
   "metadata": {},
   "outputs": [],
   "source": [
    "import nb_unittest \n",
    "\n",
    "t = nb_unittest.get(\"@runtest\")\n",
    "assert t.run().result == -100\n",
    "assert t.run({'c': 0}).result == -400\n",
    "assert t.run({'d': 0}).result == 300"
   ]
  },
  {
   "cell_type": "code",
   "execution_count": null,
   "metadata": {},
   "outputs": [],
   "source": [
    "\"\"\"\n",
    "@runtest\n",
    "\"\"\"\n",
    "\n",
    "c = d = 100\n",
    "c - d"
   ]
  },
  {
   "cell_type": "code",
   "execution_count": null,
   "metadata": {},
   "outputs": [],
   "source": [
    "import nb_unittest \n",
    "\n",
    "t = nb_unittest.get(\"@runtest\")\n",
    "assert t.run().result == 0\n",
    "assert t.run({'c': 0}).result == -100\n",
    "assert t.run({'d': 0}).result == 100"
   ]
  },
  {
   "cell_type": "code",
   "execution_count": null,
   "metadata": {},
   "outputs": [],
   "source": [
    "\"\"\"\n",
    "@runtest\n",
    "\"\"\"\n",
    "\n",
    "c, d = 100, 100\n",
    "c - d"
   ]
  },
  {
   "cell_type": "code",
   "execution_count": null,
   "metadata": {},
   "outputs": [],
   "source": [
    "import nb_unittest \n",
    "\n",
    "t = nb_unittest.get(\"@runtest\")\n",
    "assert t.run().result == 0\n",
    "assert t.run({'c': 0}).result == -100\n",
    "assert t.run({'d': 0}).result == 100"
   ]
  },
  {
   "cell_type": "code",
   "execution_count": 8,
   "metadata": {},
   "outputs": [],
   "source": [
    "\"\"\"\n",
    "@runtest\n",
    "\"\"\"\n",
    "\n",
    "c = 100 \n",
    "if c < 100:\n",
    "    c = \"less\"\n",
    "elif c > 100:\n",
    "    c = \"more\"\n",
    "else:\n",
    "    c = \"same\""
   ]
  },
  {
   "cell_type": "code",
   "execution_count": null,
   "metadata": {},
   "outputs": [],
   "source": [
    "import nb_unittest \n",
    "\n",
    "t = nb_unittest.get(\"@runtest\")\n",
    "assert t.run().result is None\n",
    "\n",
    "t.run({'c': 0})\n",
    "assert c == \"less\"\n",
    "t.run({'c': 200})\n",
    "assert c == \"more\"\n",
    "t.run({'c': 100})\n",
    "assert c == \"same\""
   ]
  },
  {
   "cell_type": "code",
   "execution_count": null,
   "metadata": {},
   "outputs": [],
   "source": [
    "\"\"\"\n",
    "@runtest \n",
    "\"\"\"\n",
    "\n",
    "print(\"No result.\")"
   ]
  },
  {
   "cell_type": "code",
   "execution_count": null,
   "metadata": {},
   "outputs": [],
   "source": [
    "import nb_unittest\n",
    "\n",
    "t = nb_unittest.get(\"@runtest\")\n",
    "result = t.run()\n",
    "assert result.outputs == []\n",
    "assert result.result is None"
   ]
  },
  {
   "cell_type": "code",
   "execution_count": null,
   "metadata": {},
   "outputs": [],
   "source": [
    "\"\"\"\n",
    "@runtest\n",
    "\"\"\"\n",
    "\n",
    "display(\"Output but no result.\")"
   ]
  },
  {
   "cell_type": "code",
   "execution_count": null,
   "metadata": {},
   "outputs": [],
   "source": [
    "import nb_unittest\n",
    "\n",
    "t = nb_unittest.get(\"@runtest\")\n",
    "result = t.run()\n",
    "assert result.outputs == [\"Output but no result.\"]\n",
    "assert result.result is None "
   ]
  },
  {
   "cell_type": "code",
   "execution_count": null,
   "metadata": {},
   "outputs": [],
   "source": [
    "\"\"\"\n",
    "@runtest\n",
    "\"\"\"\n",
    "import sys \n",
    "\n",
    "print(\"hello stdout\")\n",
    "print(\"hello stderr\", file=sys.stderr)\n",
    "display(\"hello display\")\n",
    "\"hello implicit display\""
   ]
  },
  {
   "cell_type": "code",
   "execution_count": null,
   "metadata": {},
   "outputs": [],
   "source": [
    "import nb_unittest\n",
    "\n",
    "t = nb_unittest.get(\"@runtest\")\n",
    "result = t.run()\n",
    "assert result \n",
    "assert result.stdout.startswith(\"hello stdout\\n\")\n",
    "assert result.stderr == \"hello stderr\\n\"\n",
    "assert result.result == \"hello implicit display\"\n",
    "assert result.outputs == [ \"hello display\", \"hello implicit display\" ]"
   ]
  }
 ],
 "metadata": {
  "kernelspec": {
   "display_name": "venv-p4e",
   "language": "python",
   "name": "python3"
  },
  "language_info": {
   "codemirror_mode": {
    "name": "ipython",
    "version": 3
   },
   "file_extension": ".py",
   "mimetype": "text/x-python",
   "name": "python",
   "nbconvert_exporter": "python",
   "pygments_lexer": "ipython3",
   "version": "3.12.3"
  }
 },
 "nbformat": 4,
 "nbformat_minor": 2
}
