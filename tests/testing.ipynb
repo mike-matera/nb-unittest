{
 "cells": [
  {
   "cell_type": "markdown",
   "metadata": {},
   "source": [
    "# Tests for the %%testing Magic"
   ]
  },
  {
   "cell_type": "code",
   "execution_count": null,
   "metadata": {},
   "outputs": [],
   "source": [
    "%load_ext nb_unittest\n",
    "import nb_unittest\n",
    "import nb_unittest.tagcache"
   ]
  },
  {
   "cell_type": "code",
   "execution_count": null,
   "metadata": {},
   "outputs": [],
   "source": [
    "\"\"\"@answer1\"\"\"\n",
    "\n",
    "a = 100 \n",
    "b = 200 \n",
    "\n",
    "print(\"Hello World\")\n",
    "a < b"
   ]
  },
  {
   "cell_type": "code",
   "execution_count": null,
   "metadata": {},
   "outputs": [],
   "source": [
    "%%testing @answer1\n",
    "\n",
    "import ast \n",
    "\n",
    "# The `answer1` variable contains the cell cache entry \n",
    "assert ast.Lt in answer1.tokens, \"I don't see less than!\"\n",
    "assert ast.Gt not in answer1.tokens, \"I see greater than!\""
   ]
  },
  {
   "cell_type": "code",
   "execution_count": null,
   "metadata": {},
   "outputs": [],
   "source": [
    "nb_unittest.assert_ok()"
   ]
  },
  {
   "cell_type": "code",
   "execution_count": null,
   "metadata": {},
   "outputs": [],
   "source": [
    "%%testing @answer1\n",
    "\n",
    "# Failures don't stop the cell.\n",
    "assert ast.Lt not in answer1.tokens, \"The answer doesn't contain the a less than sign.\""
   ]
  },
  {
   "cell_type": "code",
   "execution_count": null,
   "metadata": {},
   "outputs": [],
   "source": [
    "nb_unittest.assert_error()"
   ]
  },
  {
   "cell_type": "code",
   "execution_count": null,
   "metadata": {},
   "outputs": [],
   "source": [
    "%%testing @answer1\n",
    "\n",
    "import ast \n",
    "\n",
    "# The `answer1` variable contains the cell cache entry \n",
    "assert ast.Lt in answer1.tokens, \"I don't see less than!\"\n",
    "assert ast.Gt not in answer1.tokens, \"I see greater than!\""
   ]
  },
  {
   "cell_type": "code",
   "execution_count": null,
   "metadata": {},
   "outputs": [],
   "source": [
    "nb_unittest.assert_ok()"
   ]
  },
  {
   "cell_type": "code",
   "execution_count": null,
   "metadata": {},
   "outputs": [],
   "source": [
    "%%testing bogus \n",
    "\n",
    "# Bad params cause an error. \n",
    "pass"
   ]
  },
  {
   "cell_type": "code",
   "execution_count": null,
   "metadata": {},
   "outputs": [],
   "source": [
    "nb_unittest.assert_error()"
   ]
  },
  {
   "cell_type": "code",
   "execution_count": null,
   "metadata": {},
   "outputs": [],
   "source": [
    "%%testing @answer1\n",
    "\n",
    "# Functions that start with `test` become a `FunctionTestCase`\n",
    "def test_lt(): \n",
    "    \"\"\"Testing less than.\"\"\"\n",
    "    assert answer1.run({'a': 1, 'b': 2}).result == True, \"1 < 2 != True\"\n",
    "    assert answer1.run({'a': 3, 'b': 2}).result == False, \"3 < 2 != False\"    \n",
    "\n",
    "def test_broken_nodoc(): \n",
    "    assert answer1.run({'a': 1, 'b': 2}).result == False, \"1 < 2 != True\"\n",
    "\n",
    "def test_broken_withdoc(): \n",
    "    \"\"\"The test description is used to provide feedback to the learner. They will see this message when the test fails. It's useful to put a hint here.\"\"\"\n",
    "    assert answer1.run({'a': 1, 'b': 2}).result == False, \"1 < 2 != True\" "
   ]
  },
  {
   "cell_type": "code",
   "execution_count": null,
   "metadata": {},
   "outputs": [],
   "source": [
    "nb_unittest.assert_error()"
   ]
  },
  {
   "cell_type": "code",
   "execution_count": null,
   "metadata": {},
   "outputs": [],
   "source": [
    "%%testing @answer1\n",
    "\n",
    "# Functions that start with `test` become a `FunctionTestCase`\n",
    "def test_lt(): \n",
    "    \"\"\"Testing less than.\"\"\"\n",
    "    assert answer1.run({'a': 1, 'b': 2}).result == True, \"1 < 2 != True\"\n",
    "    assert answer1.run({'a': 3, 'b': 2}).result == False, \"3 < 2 != False\"    \n",
    "\n"
   ]
  },
  {
   "cell_type": "code",
   "execution_count": null,
   "metadata": {},
   "outputs": [],
   "source": [
    "nb_unittest.assert_ok()"
   ]
  },
  {
   "cell_type": "code",
   "execution_count": 15,
   "metadata": {},
   "outputs": [],
   "source": [
    "\"\"\"@answer2\"\"\"\n",
    "\n",
    "def somefunc():\n",
    "    pass"
   ]
  },
  {
   "cell_type": "code",
   "execution_count": null,
   "metadata": {},
   "outputs": [],
   "source": [
    "%%testing @answer1, @answer2, somefunc\n",
    "\n",
    "# Testing multiple symbols separated by a comma.\n",
    "\n",
    "assert \"answer1\" in globals()\n",
    "assert \"answer2\" in globals()\n",
    "assert \"somefunc\" in globals()\n"
   ]
  },
  {
   "cell_type": "code",
   "execution_count": null,
   "metadata": {},
   "outputs": [],
   "source": [
    "nb_unittest.assert_ok()"
   ]
  },
  {
   "cell_type": "code",
   "execution_count": null,
   "metadata": {},
   "outputs": [],
   "source": [
    "%%testing @answer1 as a1, @answer2 as a2, somefunc as sf\n",
    "\n",
    "# Symbol renaming\n",
    "\n",
    "assert \"a1\" in globals()\n",
    "assert \"a2\" in globals()\n",
    "assert \"sf\" in globals()\n"
   ]
  },
  {
   "cell_type": "code",
   "execution_count": null,
   "metadata": {},
   "outputs": [],
   "source": [
    "nb_unittest.assert_ok()"
   ]
  },
  {
   "cell_type": "code",
   "execution_count": null,
   "metadata": {},
   "outputs": [],
   "source": [
    "%%testing\n",
    "\n",
    "# Allow empty testing blocks. \n",
    "assert True"
   ]
  },
  {
   "cell_type": "code",
   "execution_count": null,
   "metadata": {},
   "outputs": [],
   "source": [
    "nb_unittest.assert_ok()"
   ]
  }
 ],
 "metadata": {
  "kernelspec": {
   "display_name": "venv-p4e",
   "language": "python",
   "name": "python3"
  },
  "language_info": {
   "codemirror_mode": {
    "name": "ipython",
    "version": 3
   },
   "file_extension": ".py",
   "mimetype": "text/x-python",
   "name": "python",
   "nbconvert_exporter": "python",
   "pygments_lexer": "ipython3",
   "version": "3.12.3"
  }
 },
 "nbformat": 4,
 "nbformat_minor": 2
}
