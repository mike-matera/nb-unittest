{
 "cells": [
  {
   "cell_type": "code",
   "execution_count": 1,
   "metadata": {},
   "outputs": [],
   "source": [
    "%load_ext nbtest"
   ]
  },
  {
   "cell_type": "code",
   "execution_count": null,
   "metadata": {},
   "outputs": [],
   "source": [
    "\"\"\"\n",
    "@test1 @t1\n",
    "Contact me@person.com\n",
    "\"\"\"\n",
    "\n",
    "a = 100 \n",
    "b = 200\n",
    "\n",
    "a + b"
   ]
  },
  {
   "cell_type": "code",
   "execution_count": 3,
   "metadata": {},
   "outputs": [],
   "source": [
    "import nbtest \n",
    "import ast\n",
    "\n",
    "test1 = nbtest.get(\"@test1\")\n",
    "\n",
    "assert test1.result.result == 300\n",
    "assert \"a + b\" in test1.source \n",
    "assert ast.Add in test1.tokens\n",
    "assert len(test1.tags) == 2\n",
    "assert \"@test1\" in test1.tags\n",
    "assert \"@t1\" in test1.tags\n",
    "assert isinstance(test1.tree, ast.Module) \n",
    "assert \"Contact\" in test1.docstring"
   ]
  },
  {
   "cell_type": "code",
   "execution_count": null,
   "metadata": {},
   "outputs": [],
   "source": [
    "\"\"\"\n",
    "@test2\n",
    "\"\"\"\n",
    "\n",
    "c = 300 \n",
    "d = 400\n",
    "\n",
    "def testfunc():\n",
    "    def func_in_func():\n",
    "        pass\n",
    "\n",
    "    class class_in_func:\n",
    "        pass \n",
    "\n",
    "class TestClass:\n",
    "\n",
    "    def method(self):\n",
    "        pass \n",
    "\n",
    "    class subclass:\n",
    "        pass \n",
    "\n",
    "\n",
    "c - d"
   ]
  },
  {
   "cell_type": "code",
   "execution_count": 5,
   "metadata": {},
   "outputs": [],
   "source": [
    "test2 = nbtest.get(\"@test2\")\n",
    "\n",
    "assert 'c' in test2.assignments\n",
    "assert 'd' in test2.assignments\n",
    "assert 'testfunc' in test2.functions\n",
    "assert 'TestClass' in test2.classes\n",
    "assert 'func_in_func' not in test2.functions\n",
    "assert 'method' not in test2.functions\n",
    "assert 'class_in_func' not in test2.classes\n",
    "assert 'subclass' not in test2.classes\n"
   ]
  }
 ],
 "metadata": {
  "kernelspec": {
   "display_name": "venv-p4e",
   "language": "python",
   "name": "python3"
  },
  "language_info": {
   "codemirror_mode": {
    "name": "ipython",
    "version": 3
   },
   "file_extension": ".py",
   "mimetype": "text/x-python",
   "name": "python",
   "nbconvert_exporter": "python",
   "pygments_lexer": "ipython3",
   "version": "3.12.3"
  }
 },
 "nbformat": 4,
 "nbformat_minor": 2
}
