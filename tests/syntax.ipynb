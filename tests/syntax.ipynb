{
 "cells": [
  {
   "cell_type": "markdown",
   "metadata": {},
   "source": [
    "# Testing Syntax Analysis \n",
    "\n",
    "Analysis tests..."
   ]
  },
  {
   "cell_type": "code",
   "execution_count": null,
   "metadata": {},
   "outputs": [],
   "source": [
    "%load_ext nb_unittest"
   ]
  },
  {
   "cell_type": "code",
   "execution_count": null,
   "metadata": {},
   "outputs": [],
   "source": [
    "\"\"\"@solution\"\"\"\n",
    "\n",
    "a = 1 \n",
    "b = 2 \n",
    "a + b \n",
    "\n",
    "def c():\n",
    "    \"\"\"c\"\"\"\n",
    "    print(\"c()\")\n",
    "    d = 1\n",
    "    _ = a < b\n",
    "    def e(f, g):\n",
    "        \"\"\"e\"\"\"\n",
    "        h = 2\n",
    "        type((d,f,g,h,))\n",
    "        _ = a > b\n",
    "    "
   ]
  },
  {
   "cell_type": "code",
   "execution_count": null,
   "metadata": {},
   "outputs": [],
   "source": [
    "import nb_unittest \n",
    "import ast \n",
    "\n",
    "s = nb_unittest.get('@solution')\n",
    "\n",
    "assert ast.Add in s.tokens\n",
    "assert 'a' in s.assignments\n",
    "assert 'b' in s.assignments\n",
    "assert 'c' not in s.assignments\n",
    "assert 'g' not in s.assignments\n",
    "assert 'print' not in s.calls\n",
    "assert 'type' not in s.calls \n",
    "\n",
    "# Ensure extracted tokens still contains a function def.\n",
    "assert ast.FunctionDef in s.tokens\n",
    "\n",
    "assert 'c' in s.functions\n",
    "\n",
    "# Ensure we can see all tokens in \"c\"\n",
    "assert ast.FunctionDef in s.functions['c'].tokens\n",
    "assert ast.Lt in s.functions['c'].tokens\n",
    "assert ast.Gt not in s.functions['c'].tokens\n",
    "\n",
    "assert 'c' == s.functions['c'].docstring\n",
    "assert 'd' in s.functions['c'].assignments\n",
    "assert 'print' in s.functions['c'].calls\n",
    "assert 'e' in s.functions['c'].functions\n",
    "assert 'e' == s.functions['c'].functions[\"e\"].docstring\n",
    "\n",
    "assert 'h' in s.functions['c'].functions['e'].assignments\n",
    "assert 'type' in s.functions['c'].functions['e'].calls\n",
    "assert 'f' in s.functions['c'].functions['e'].arguments\n",
    "assert 'g' in s.functions['c'].functions['e'].arguments\n",
    "\n",
    "# Ensure we can see tokens in e\n",
    "assert ast.Lt not in s.functions['c'].functions['e'].tokens\n",
    "assert ast.Gt in s.functions['c'].functions['e'].tokens\n"
   ]
  },
  {
   "cell_type": "code",
   "execution_count": null,
   "metadata": {},
   "outputs": [],
   "source": [
    "\"\"\"@solution2\"\"\"\n",
    "\n",
    "_ = 1 < 2 \n",
    "\n",
    "class A:\n",
    "    \"\"\"A\"\"\"\n",
    "    B = 1\n",
    "    C = 2\n",
    "    _ = 1 > 2 \n",
    "\n",
    "    class D:\n",
    "        \"\"\"D\"\"\"\n",
    "        E = 3\n",
    "        F = 4\n",
    "        _ = 1 <= 2 \n",
    "    \n",
    "        def g(self,h,i):\n",
    "            \"\"\"g\"\"\"\n",
    "            j = A.B + A.C + self.E + self.F + h + i\n",
    "            type(j)\n",
    "            _ = 1 >= 2 \n",
    "    \n",
    "    def k(self, l, m, *n, o, p, **q):\n",
    "        \"\"\"k\"\"\"\n",
    "        print(5+l)\n",
    "        _ = 1 % 2"
   ]
  },
  {
   "cell_type": "code",
   "execution_count": null,
   "metadata": {},
   "outputs": [],
   "source": [
    "import nb_unittest \n",
    "import ast \n",
    "\n",
    "s = nb_unittest.get('@solution2')\n",
    "\n",
    "assert \"A\" in s.classes\n",
    "assert \"print\" not in s.calls\n",
    "assert \"type\" not in s.calls\n",
    "\n",
    "# FIX: make the tokens attribute work on scope like the others\n",
    "assert ast.Add not in s.tokens\n",
    "assert ast.ClassDef in s.tokens\n",
    "\n",
    "assert \"A\" == s.classes['A'].docstring\n",
    "assert \"B\" in s.classes['A'].assignments\n",
    "assert \"C\" in s.classes['A'].assignments\n",
    "assert \"k\" in s.classes['A'].functions\n",
    "assert \"k\" == s.classes['A'].functions[\"k\"].docstring\n",
    "\n",
    "assert \"D\" in s.classes['A'].classes\n",
    "assert \"D\" == s.classes['A'].classes[\"D\"].docstring\n",
    "assert \"E\" in s.classes['A'].classes[\"D\"].assignments\n",
    "assert \"F\" in s.classes['A'].classes[\"D\"].assignments\n",
    "\n",
    "assert \"g\" in s.classes['A'].classes[\"D\"].functions\n",
    "assert \"g\" == s.classes['A'].classes[\"D\"].functions[\"g\"].docstring\n",
    "assert \"j\" in s.classes['A'].classes[\"D\"].functions[\"g\"].assignments\n",
    "assert \"type\" in s.classes['A'].classes[\"D\"].functions[\"g\"].calls\n",
    "assert \"self\" in s.classes['A'].classes[\"D\"].functions[\"g\"].arguments\n",
    "assert \"h\" in s.classes['A'].classes[\"D\"].functions[\"g\"].arguments\n",
    "assert \"i\" in s.classes['A'].classes[\"D\"].functions[\"g\"].arguments\n",
    "\n",
    "# Ensure we can see the right tokens. Check the fix for the tokens bug. \n",
    "assert ast.Lt in s.tokens\n",
    "assert ast.Gt not in s.tokens\n",
    "assert ast.GtE not in s.tokens \n",
    "assert ast.LtE not in s.tokens\n",
    "assert ast.Mod not in s.tokens\n",
    "\n",
    "assert ast.Lt not in s.classes[\"A\"].tokens\n",
    "assert ast.Gt in s.classes[\"A\"].tokens\n",
    "assert ast.GtE not in s.classes[\"A\"].tokens\n",
    "assert ast.LtE not in s.classes[\"A\"].tokens\n",
    "assert ast.Mod not in s.classes[\"A\"].tokens\n",
    "\n",
    "assert ast.Lt not in s.classes[\"A\"].classes[\"D\"].tokens\n",
    "assert ast.Gt not in s.classes[\"A\"].classes[\"D\"].tokens\n",
    "assert ast.GtE not in s.classes[\"A\"].classes[\"D\"].tokens\n",
    "assert ast.LtE in s.classes[\"A\"].classes[\"D\"].tokens\n",
    "assert ast.Mod not in s.classes[\"A\"].classes[\"D\"].tokens\n",
    "\n",
    "assert ast.Lt not in s.classes[\"A\"].classes[\"D\"].functions[\"g\"].tokens\n",
    "assert ast.Gt not in s.classes[\"A\"].classes[\"D\"].functions[\"g\"].tokens\n",
    "assert ast.GtE in s.classes[\"A\"].classes[\"D\"].functions[\"g\"].tokens\n",
    "assert ast.LtE not in s.classes[\"A\"].classes[\"D\"].functions[\"g\"].tokens\n",
    "assert ast.Mod not in s.classes[\"A\"].classes[\"D\"].functions[\"g\"].tokens\n",
    "\n",
    "assert ast.Lt not in s.classes[\"A\"].functions[\"k\"].tokens\n",
    "assert ast.Gt not in s.classes[\"A\"].functions[\"k\"].tokens\n",
    "assert ast.GtE not in s.classes[\"A\"].functions[\"k\"].tokens\n",
    "assert ast.LtE not in s.classes[\"A\"].functions[\"k\"].tokens\n",
    "assert ast.Mod in s.classes[\"A\"].functions[\"k\"].tokens"
   ]
  },
  {
   "cell_type": "code",
   "execution_count": null,
   "metadata": {},
   "outputs": [],
   "source": [
    "## New: Test argument ordering. \n",
    "assert \"l\" == s.classes['A'].functions[\"k\"].arguments[1]\n",
    "assert \"m\" == s.classes['A'].functions[\"k\"].arguments[2]\n",
    "assert \"*n\" == s.classes['A'].functions[\"k\"].arguments[3]\n",
    "assert \"o\" == s.classes['A'].functions[\"k\"].arguments[4]\n",
    "assert \"p\" == s.classes['A'].functions[\"k\"].arguments[5]\n",
    "assert \"**q\" == s.classes['A'].functions[\"k\"].arguments[6]"
   ]
  },
  {
   "cell_type": "code",
   "execution_count": null,
   "metadata": {},
   "outputs": [],
   "source": [
    "\"\"\"@callincall\"\"\"\n",
    "\n",
    "## Bugfix: Make sure we see calls in calls.\n",
    "print(type(1))"
   ]
  },
  {
   "cell_type": "code",
   "execution_count": null,
   "metadata": {},
   "outputs": [],
   "source": [
    "import nb_unittest \n",
    "\n",
    "c = nb_unittest.get('@callincall')\n",
    "assert \"print\" in c.calls\n",
    "assert \"type\" in c.calls"
   ]
  },
  {
   "cell_type": "markdown",
   "metadata": {},
   "source": [
    "## Testing the New References \n",
    "\n",
    "A list of all referenced symbols."
   ]
  },
  {
   "cell_type": "code",
   "execution_count": null,
   "metadata": {},
   "outputs": [],
   "source": [
    "a = 100\n",
    "b = 200"
   ]
  },
  {
   "cell_type": "code",
   "execution_count": null,
   "metadata": {},
   "outputs": [],
   "source": [
    "\"\"\"@refs\"\"\"\n",
    "c = 300 \n",
    "print(a, b)\n",
    "\n",
    "def foo():\n",
    "    print(c)"
   ]
  },
  {
   "cell_type": "code",
   "execution_count": null,
   "metadata": {},
   "outputs": [],
   "source": [
    "refs = nb_unittest.get(\"@refs\")\n",
    "assert {'a', 'b', 'print'} == refs.references\n",
    "assert {'c', 'print'} == refs.functions[\"foo\"].references"
   ]
  },
  {
   "cell_type": "markdown",
   "metadata": {},
   "source": [
    "## Testing the Counting Syntax\n",
    "\n",
    "Get counts of things where that might help. \n"
   ]
  },
  {
   "cell_type": "code",
   "execution_count": null,
   "metadata": {},
   "outputs": [],
   "source": [
    "a = 100\n",
    "b = 200"
   ]
  },
  {
   "cell_type": "code",
   "execution_count": null,
   "metadata": {},
   "outputs": [],
   "source": [
    "\"\"\"@counts\"\"\"\n",
    "c = 300 \n",
    "print(a, b)\n",
    "print(c, a)\n",
    "type(a)\n",
    "\n",
    "def foo():\n",
    "    print(c)"
   ]
  },
  {
   "cell_type": "code",
   "execution_count": null,
   "metadata": {},
   "outputs": [],
   "source": [
    "counts = nb_unittest.get(\"@counts\")\n",
    "assert 2 == counts.count_calls(\"print\")\n",
    "assert 1 == counts.count_calls(\"type\")\n",
    "assert 0 == counts.count_calls(\"bogus\")\n",
    "\n",
    "assert 3 == counts.count_references('a')\n",
    "assert 1 == counts.count_references('b')\n",
    "assert 1 == counts.count_references('c')\n",
    "assert 0 == counts.count_references('d')\n",
    "\n",
    "assert 1 == counts.count_assignments('c')\n",
    "assert 0 == counts.count_assignments('a')"
   ]
  },
  {
   "cell_type": "markdown",
   "metadata": {},
   "source": [
    "## Testing Imports \n",
    "\n"
   ]
  },
  {
   "cell_type": "code",
   "execution_count": null,
   "metadata": {},
   "outputs": [],
   "source": [
    "\"\"\"@imp\"\"\"\n",
    "\n",
    "import re \n",
    "import subprocess as foo\n",
    "from math import pi\n",
    "\n",
    "def a():\n",
    "    import json, io"
   ]
  },
  {
   "cell_type": "code",
   "execution_count": null,
   "metadata": {},
   "outputs": [],
   "source": [
    "imp = nb_unittest.get(\"@imp\")\n",
    "\n",
    "assert {\"re\", \"subprocess\", \"math\"} == imp.imports \n",
    "assert {\"json\", \"io\"} == imp.functions[\"a\"].imports "
   ]
  }
 ],
 "metadata": {
  "kernelspec": {
   "display_name": "venv-p4e",
   "language": "python",
   "name": "python3"
  },
  "language_info": {
   "codemirror_mode": {
    "name": "ipython",
    "version": 3
   },
   "file_extension": ".py",
   "mimetype": "text/x-python",
   "name": "python",
   "nbconvert_exporter": "python",
   "pygments_lexer": "ipython3",
   "version": "3.12.3"
  }
 },
 "nbformat": 4,
 "nbformat_minor": 2
}
