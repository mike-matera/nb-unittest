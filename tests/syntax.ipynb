{
 "cells": [
  {
   "cell_type": "code",
   "execution_count": 1,
   "metadata": {},
   "outputs": [],
   "source": [
    "%load_ext nbtest"
   ]
  },
  {
   "cell_type": "code",
   "execution_count": 2,
   "metadata": {},
   "outputs": [],
   "source": [
    "\"\"\"@solution\"\"\"\n",
    "\n",
    "a = 1 \n",
    "b = 2 \n",
    "a + b \n",
    "\n",
    "def c():\n",
    "    \"\"\"c\"\"\"\n",
    "    print(\"c()\")\n",
    "    d = 1\n",
    "    def e(f, g):\n",
    "        \"\"\"e\"\"\"\n",
    "        h = 2\n",
    "        type((d,f,g,h,))\n",
    "    "
   ]
  },
  {
   "cell_type": "code",
   "execution_count": 3,
   "metadata": {},
   "outputs": [],
   "source": [
    "import nbtest \n",
    "import ast \n",
    "\n",
    "s = nbtest.get('@solution')\n",
    "\n",
    "assert ast.Add in s.tokens\n",
    "assert 'a' in s.assignments\n",
    "assert 'b' in s.assignments\n",
    "assert 'c' not in s.assignments\n",
    "assert 'g' not in s.assignments\n",
    "assert 'print' not in s.calls\n",
    "assert 'type' not in s.calls \n",
    "\n",
    "# Ensure extracted tokens still contains a function def.\n",
    "assert ast.FunctionDef in s.tokens\n",
    "\n",
    "assert 'c' in s.functions\n",
    "assert ast.FunctionDef in s.functions['c'].tokens\n",
    "assert 'c' == s.functions['c'].docstring\n",
    "assert 'd' in s.functions['c'].assignments\n",
    "assert 'print' in s.functions['c'].calls\n",
    "assert 'e' in s.functions['c'].functions\n",
    "assert 'e' == s.functions['c'].functions[\"e\"].docstring\n",
    "\n",
    "assert 'h' in s.functions['c'].functions['e'].assignments\n",
    "assert 'type' in s.functions['c'].functions['e'].calls\n",
    "assert 'f' in s.functions['c'].functions['e'].arguments\n",
    "assert 'g' in s.functions['c'].functions['e'].arguments"
   ]
  },
  {
   "cell_type": "code",
   "execution_count": 4,
   "metadata": {},
   "outputs": [],
   "source": [
    "\"\"\"@solution2\"\"\"\n",
    "\n",
    "class A:\n",
    "    \"\"\"A\"\"\"\n",
    "    B = 1\n",
    "    C = 2\n",
    "\n",
    "    class D:\n",
    "        \"\"\"D\"\"\"\n",
    "        E = 3\n",
    "        F = 4\n",
    "    \n",
    "        def g(self,h,i):\n",
    "            \"\"\"g\"\"\"\n",
    "            j = A.B + A.C + self.E + self.F + h + i\n",
    "            type(j)\n",
    "    \n",
    "    def k(self, l):\n",
    "        \"\"\"k\"\"\"\n",
    "        print(5+l)"
   ]
  },
  {
   "cell_type": "code",
   "execution_count": 5,
   "metadata": {},
   "outputs": [],
   "source": [
    "import nbtest \n",
    "import ast \n",
    "\n",
    "s = nbtest.get('@solution2')\n",
    "\n",
    "assert \"A\" in s.classes\n",
    "assert \"print\" not in s.calls\n",
    "assert \"type\" not in s.calls\n",
    "\n",
    "# FIX: make the tokens attribute work on scope like the others\n",
    "assert ast.Add not in s.tokens\n",
    "assert ast.ClassDef in s.tokens\n",
    "\n",
    "assert \"A\" == s.classes['A'].docstring\n",
    "assert \"B\" in s.classes['A'].assignments\n",
    "assert \"C\" in s.classes['A'].assignments\n",
    "assert \"k\" in s.classes['A'].functions\n",
    "assert \"k\" == s.classes['A'].functions[\"k\"].docstring\n",
    "\n",
    "assert \"D\" in s.classes['A'].classes\n",
    "assert \"D\" == s.classes['A'].classes[\"D\"].docstring\n",
    "assert \"E\" in s.classes['A'].classes[\"D\"].assignments\n",
    "assert \"F\" in s.classes['A'].classes[\"D\"].assignments\n",
    "\n",
    "assert \"g\" in s.classes['A'].classes[\"D\"].functions\n",
    "assert \"g\" == s.classes['A'].classes[\"D\"].functions[\"g\"].docstring\n",
    "assert \"j\" in s.classes['A'].classes[\"D\"].functions[\"g\"].assignments\n",
    "assert \"type\" in s.classes['A'].classes[\"D\"].functions[\"g\"].calls\n",
    "assert \"self\" in s.classes['A'].classes[\"D\"].functions[\"g\"].arguments\n",
    "assert \"h\" in s.classes['A'].classes[\"D\"].functions[\"g\"].arguments\n",
    "assert \"i\" in s.classes['A'].classes[\"D\"].functions[\"g\"].arguments"
   ]
  }
 ],
 "metadata": {
  "kernelspec": {
   "display_name": "venv-p4e",
   "language": "python",
   "name": "python3"
  },
  "language_info": {
   "codemirror_mode": {
    "name": "ipython",
    "version": 3
   },
   "file_extension": ".py",
   "mimetype": "text/x-python",
   "name": "python",
   "nbconvert_exporter": "python",
   "pygments_lexer": "ipython3",
   "version": "3.12.3"
  }
 },
 "nbformat": 4,
 "nbformat_minor": 2
}
