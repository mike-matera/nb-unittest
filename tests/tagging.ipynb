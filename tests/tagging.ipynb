{
 "cells": [
  {
   "cell_type": "code",
   "execution_count": null,
   "metadata": {},
   "outputs": [],
   "source": [
    "%load_ext nb_unittest"
   ]
  },
  {
   "cell_type": "code",
   "execution_count": null,
   "metadata": {},
   "outputs": [],
   "source": [
    "\"\"\"\n",
    "@test1\n",
    "\"\"\"\n",
    "\n",
    "a = 100 \n",
    "b = 200\n",
    "\n",
    "a + b"
   ]
  },
  {
   "cell_type": "code",
   "execution_count": null,
   "metadata": {},
   "outputs": [],
   "source": [
    "\"\"\"\n",
    "@test2 @t2\n",
    "\"\"\"\n",
    "\n",
    "c = 300 \n",
    "d = 400\n",
    "\n",
    "c - d"
   ]
  },
  {
   "cell_type": "code",
   "execution_count": null,
   "metadata": {},
   "outputs": [],
   "source": [
    "import nb_unittest \n",
    "import nb_unittest.tagcache\n",
    "\n",
    "test1 = nb_unittest.get(\"@test1\")\n",
    "test2 = nb_unittest.get(\"@test2\")\n",
    "\n",
    "assert isinstance(test1, nb_unittest.tagcache.TagCacheEntry)\n",
    "assert isinstance(test2, nb_unittest.tagcache.TagCacheEntry)\n",
    "assert \"@test1\" in nb_unittest.tags()\n",
    "assert \"@test2\" in nb_unittest.tags()\n",
    "assert (\"@test1\", test1,) in nb_unittest.items()\n",
    "assert (\"@test2\", test2,) in nb_unittest.items()\n",
    "\n",
    "try:\n",
    "    nb_unittest.get(\"@bogus\")\n",
    "    assert False, \"Somehow got a bogus tag.\"\n",
    "except:\n",
    "    pass\n",
    "\n",
    "t2 = nb_unittest.get(\"@t2\")\n",
    "assert test2 == t2"
   ]
  }
 ],
 "metadata": {
  "kernelspec": {
   "display_name": "venv-p4e",
   "language": "python",
   "name": "python3"
  },
  "language_info": {
   "codemirror_mode": {
    "name": "ipython",
    "version": 3
   },
   "file_extension": ".py",
   "mimetype": "text/x-python",
   "name": "python",
   "nbconvert_exporter": "python",
   "pygments_lexer": "ipython3",
   "version": "3.12.3"
  }
 },
 "nbformat": 4,
 "nbformat_minor": 2
}
