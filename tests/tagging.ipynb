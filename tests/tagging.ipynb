{
 "cells": [
  {
   "cell_type": "code",
   "execution_count": 1,
   "metadata": {},
   "outputs": [],
   "source": [
    "%load_ext nbtest"
   ]
  },
  {
   "cell_type": "code",
   "execution_count": 2,
   "metadata": {},
   "outputs": [
    {
     "data": {
      "text/plain": [
       "300"
      ]
     },
     "execution_count": 2,
     "metadata": {},
     "output_type": "execute_result"
    }
   ],
   "source": [
    "\"\"\"\n",
    "@test1\n",
    "\"\"\"\n",
    "\n",
    "a = 100 \n",
    "b = 200\n",
    "\n",
    "a + b"
   ]
  },
  {
   "cell_type": "code",
   "execution_count": 3,
   "metadata": {},
   "outputs": [
    {
     "data": {
      "text/plain": [
       "-100"
      ]
     },
     "execution_count": 3,
     "metadata": {},
     "output_type": "execute_result"
    }
   ],
   "source": [
    "\"\"\"\n",
    "@test2 @t2\n",
    "\"\"\"\n",
    "\n",
    "c = 300 \n",
    "d = 400\n",
    "\n",
    "c - d"
   ]
  },
  {
   "cell_type": "code",
   "execution_count": 5,
   "metadata": {},
   "outputs": [],
   "source": [
    "import nbtest \n",
    "import nbtest.tagcache\n",
    "\n",
    "test1 = nbtest.get(\"@test1\")\n",
    "test2 = nbtest.get(\"@test2\")\n",
    "\n",
    "assert isinstance(test1, nbtest.tagcache.TagCacheEntry)\n",
    "assert isinstance(test2, nbtest.tagcache.TagCacheEntry)\n",
    "assert \"@test1\" in nbtest.tags()\n",
    "assert \"@test2\" in nbtest.tags()\n",
    "assert (\"@test1\", test1,) in nbtest.items()\n",
    "assert (\"@test2\", test2,) in nbtest.items()\n",
    "\n",
    "try:\n",
    "    nbtest.get(\"@bogus\")\n",
    "    assert False, \"Somehow got a bogus tag.\"\n",
    "except:\n",
    "    pass\n",
    "\n",
    "t2 = nbtest.get(\"@t2\")\n",
    "assert test2 == t2"
   ]
  }
 ],
 "metadata": {
  "kernelspec": {
   "display_name": "venv-p4e",
   "language": "python",
   "name": "python3"
  },
  "language_info": {
   "codemirror_mode": {
    "name": "ipython",
    "version": 3
   },
   "file_extension": ".py",
   "mimetype": "text/x-python",
   "name": "python",
   "nbconvert_exporter": "python",
   "pygments_lexer": "ipython3",
   "version": "3.12.3"
  }
 },
 "nbformat": 4,
 "nbformat_minor": 2
}
