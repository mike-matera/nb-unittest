{
 "cells": [
  {
   "cell_type": "code",
   "execution_count": 1,
   "id": "what-the-heck-happened",
   "metadata": {},
   "outputs": [],
   "source": [
    "%load_ext nbtest"
   ]
  },
  {
   "cell_type": "markdown",
   "id": "7fd3a55d",
   "metadata": {},
   "source": [
    "The Jupyter kernel is a nightmare. Having spent a day trying to figure out how to `await` the task that's created when I run an `async` test, I found this bug:\n",
    "\n",
    "> https://github.com/ipython/ipykernel/pull/589\n",
    "\n",
    "Any attempt to `await` the runner task will deadlock the cell that's doing the waiting because the way the Jupyter kernel handles widget I/O is terrible. The bug was filed in 2021 and it's not likely to get fixed anytime soon. This project will need a major overhaul if/when they ever get the `async` support right. \n",
    "\n",
    "**It's effectively impossible to make a unit test that checks if async tests passed or failed.**"
   ]
  },
  {
   "cell_type": "code",
   "execution_count": 2,
   "id": "59759126",
   "metadata": {},
   "outputs": [],
   "source": [
    "import time\n",
    "import ipywidgets\n",
    "from IPython.display import HTML"
   ]
  },
  {
   "cell_type": "code",
   "execution_count": 3,
   "id": "42658db2",
   "metadata": {},
   "outputs": [],
   "source": [
    "\"\"\"@solution\"\"\"\n",
    "\n",
    "def make_html(name):\n",
    "    time.sleep(1)\n",
    "    return HTML(f\"Hello <b>{name}</b>!\")\n"
   ]
  },
  {
   "cell_type": "code",
   "execution_count": 4,
   "id": "f8987c57",
   "metadata": {},
   "outputs": [
    {
     "data": {
      "application/vnd.jupyter.widget-view+json": {
       "model_id": "21675a2a831746e9940855f6c7ed2b94",
       "version_major": 2,
       "version_minor": 0
      },
      "text/plain": [
       "interactive(children=(Text(value='Zelda Pinwheel', continuous_update=False, description='name'), Button(descri…"
      ]
     },
     "metadata": {},
     "output_type": "display_data"
    }
   ],
   "source": [
    "\"\"\"@widgets\"\"\"\n",
    "\n",
    "display(ipywidgets.interactive(\n",
    "    make_html,\n",
    "    {'auto_display': True, 'manual': True},\n",
    "    name = \"Zelda Pinwheel\",\n",
    "))"
   ]
  },
  {
   "cell_type": "code",
   "execution_count": 5,
   "id": "0df98a4d",
   "metadata": {},
   "outputs": [
    {
     "data": {
      "application/vnd.jupyter.widget-view+json": {
       "model_id": "140248b1ba82441ba9a83bbd5601216e",
       "version_major": 2,
       "version_minor": 0
      },
      "text/plain": [
       "Output(outputs=({'output_type': 'display_data', 'data': {'text/plain': 'HTML(value=\\'<div style=\"font-size: la…"
      ]
     },
     "execution_count": 5,
     "metadata": {},
     "output_type": "execute_result"
    }
   ],
   "source": [
    "%%testing @solution @widgets make_html\n",
    "\n",
    "import ipywidgets\n",
    "import asyncio\n",
    "from contextlib import asynccontextmanager\n",
    "from IPython.display import HTML \n",
    "from unittest import IsolatedAsyncioTestCase, TestCase\n",
    "\n",
    "def test_solution():\n",
    "    assert solution \n",
    "    assert \"make_html\" in solution.functions\n",
    "\n",
    "def test_make_html():\n",
    "    assert make_html\n",
    "    assert callable(make_html)\n",
    "    html = make_html('foo')\n",
    "    assert isinstance(html, HTML)\n",
    "\n",
    "@asynccontextmanager\n",
    "async def wait_for(widget, names):\n",
    "    fut = asyncio.Future()\n",
    "    def obs(change):\n",
    "        fut.set_result(change)\n",
    "        widget.unobserve(obs, names)\n",
    "    widget.observe(obs, names=names)\n",
    "    try:\n",
    "        yield fut \n",
    "    finally:\n",
    "        await fut \n",
    "\n",
    "class WidgetTest(TestCase):\n",
    "\n",
    "    async def test_widgets(self):\n",
    "        r = widgets.run()\n",
    "        name = r.outputs[0].children[0]\n",
    "        button = r.outputs[0].children[1]\n",
    "        output = r.outputs[0].children[2]      \n",
    "\n",
    "        assert isinstance(button, ipywidgets.Button)  \n",
    "        assert isinstance(output, ipywidgets.Output)  \n",
    "\n",
    "        name.value = \"test person\"\n",
    "        async with wait_for(output, \"outputs\"):\n",
    "            button.click()\n",
    "\n",
    "        assert \"test person\" in output.outputs[0]['data']['text/html']\n"
   ]
  },
  {
   "cell_type": "code",
   "execution_count": 6,
   "id": "fbcc803a",
   "metadata": {},
   "outputs": [
    {
     "data": {
      "application/vnd.jupyter.widget-view+json": {
       "model_id": "40ee930c81bf4ca0909267124d132730",
       "version_major": 2,
       "version_minor": 0
      },
      "text/plain": [
       "Output(outputs=({'output_type': 'display_data', 'data': {'text/plain': 'HTML(value=\\'<div style=\"font-size: la…"
      ]
     },
     "execution_count": 6,
     "metadata": {},
     "output_type": "execute_result"
    }
   ],
   "source": [
    "%%testing @widgets\n",
    "\n",
    "async def test_async_function():\n",
    "    r = widgets.run()\n",
    "    name = r.outputs[0].children[0]\n",
    "    button = r.outputs[0].children[1]\n",
    "    output = r.outputs[0].children[2]      \n",
    "\n",
    "    assert isinstance(button, ipywidgets.Button)  \n",
    "    assert isinstance(output, ipywidgets.Output)  \n",
    "\n",
    "    name.value = \"test person\"\n",
    "    async with wait_for(output, \"outputs\"):\n",
    "        button.click()\n",
    "\n",
    "    assert \"test person\" in output.outputs[0]['data']['text/html']"
   ]
  }
 ],
 "metadata": {
  "kernelspec": {
   "display_name": "venv-p4e",
   "language": "python",
   "name": "python3"
  },
  "language_info": {
   "codemirror_mode": {
    "name": "ipython",
    "version": 3
   },
   "file_extension": ".py",
   "mimetype": "text/x-python",
   "name": "python",
   "nbconvert_exporter": "python",
   "pygments_lexer": "ipython3",
   "version": "3.12.3"
  }
 },
 "nbformat": 4,
 "nbformat_minor": 5
}
